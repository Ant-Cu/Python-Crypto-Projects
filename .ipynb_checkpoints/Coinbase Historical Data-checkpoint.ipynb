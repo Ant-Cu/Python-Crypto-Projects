{
 "cells": [
  {
   "cell_type": "code",
   "execution_count": 2,
   "id": "unlikely-virginia",
   "metadata": {
    "ExecuteTime": {
     "end_time": "2022-01-17T15:27:39.156819Z",
     "start_time": "2022-01-17T15:27:36.707443Z"
    }
   },
   "outputs": [],
   "source": [
    "import time\n",
    "import pandas as pd\n",
    "import numpy as np\n",
    "import matplotlib.pyplot as plt\n",
    "import seaborn as sns\n",
    "import requests\n",
    "import arrow\n",
    "from requests.auth import AuthBase\n"
   ]
  },
  {
   "cell_type": "code",
   "execution_count": 3,
   "id": "false-special",
   "metadata": {
    "ExecuteTime": {
     "end_time": "2022-01-17T15:27:39.172776Z",
     "start_time": "2022-01-17T15:27:39.160809Z"
    },
    "scrolled": false
   },
   "outputs": [],
   "source": [
    "def GetHistoCoinBase(tickers,startdate,enddate,timeframe):\n",
    "    #date format as arg must be YYYY-MM-DD, and tickers a list of ticker(s)\n",
    "    granularity = timeframe \n",
    "    for ticker in tickers:\n",
    "        end_ = arrow.get(enddate).timestamp\n",
    "        start_ = arrow.get(startdate).timestamp #creates a loop limit        \n",
    "        date_line_limit = 200  #Coinbase limit is 200\n",
    "        date_limit = end_ - (granularity*date_line_limit)\n",
    "        ticker_df = []\n",
    "        while date_limit >= start_:\n",
    "\n",
    "            url = f'https://api.pro.coinbase.com/products/{ticker}/candles'.format()\n",
    "\n",
    "            params_histo = {'granularity' : granularity,\n",
    "                        'start' : arrow.get(date_limit),\n",
    "                        'end' : arrow.get(end_)}\n",
    "\n",
    "            r = requests.get(url=url,params=params_histo)\n",
    "            data = r.json()\n",
    "            time.sleep(0.1)\n",
    "\n",
    "            if data is None:\n",
    "                break\n",
    "            elif end_ == data[-1:][0][0]:\n",
    "                break\n",
    "            elif date_limit == start_:\n",
    "                break\n",
    "            else:\n",
    "                end_ = data[-1:][0][0]\n",
    "\n",
    "            for i in data:\n",
    "                ticker_df.append(i)\n",
    "\n",
    "            date_limit = end_ - (granularity*date_line_limit)\n",
    "         \n",
    "        #Tidy the DataFrame\n",
    "        column_names = ['time','Low','High','Open','Close','Volume']\n",
    "        ticker_df.drop_duplicates(subset='time',inplace=True)\n",
    "        ticker_df['Date'] = [arrow.Arrow.fromtimestamp(date).format('YYYY-MM-DD HH:mm') for date in ticker_df['time']]\n",
    "        newname.drop('time',axis=1,inplace=True)\n",
    "        ticker_df.sort_values(by='Date',inplace=True,ascending=True)\n",
    "        ticker_df = pd.DataFrame(ticker_df,columns=columns_names)\n",
    "        \n",
    "        filename = [ticker.replace('/','-') if '/' in ticker else ticker][0]\n",
    "\n",
    "        path=r'your path'\n",
    "        ticker_df.to_csv(f'{path}\\{filename}.csv'.format(),index=False)"
   ]
  },
  {
   "cell_type": "code",
   "execution_count": null,
   "id": "proved-genius",
   "metadata": {},
   "outputs": [],
   "source": []
  },
  {
   "cell_type": "code",
   "execution_count": null,
   "id": "nonprofit-commonwealth",
   "metadata": {},
   "outputs": [],
   "source": []
  }
 ],
 "metadata": {
  "kernelspec": {
   "display_name": "Python 3",
   "language": "python",
   "name": "python3"
  },
  "language_info": {
   "codemirror_mode": {
    "name": "ipython",
    "version": 3
   },
   "file_extension": ".py",
   "mimetype": "text/x-python",
   "name": "python",
   "nbconvert_exporter": "python",
   "pygments_lexer": "ipython3",
   "version": "3.7.9"
  }
 },
 "nbformat": 4,
 "nbformat_minor": 5
}
