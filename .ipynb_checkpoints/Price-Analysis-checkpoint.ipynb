{
 "cells": [
  {
   "cell_type": "code",
   "execution_count": 2,
   "id": "unlikely-virginia",
   "metadata": {
    "ExecuteTime": {
     "end_time": "2022-01-27T13:32:37.061577Z",
     "start_time": "2022-01-27T13:32:33.655389Z"
    }
   },
   "outputs": [],
   "source": [
    "import time\n",
    "import pandas as pd\n",
    "import numpy as np\n",
    "import matplotlib.pyplot as plt\n",
    "import seaborn as sns\n",
    "import requests\n",
    "import arrow\n",
    "from requests.auth import AuthBase\n",
    "import datetime as dt"
   ]
  },
  {
   "cell_type": "code",
   "execution_count": 3,
   "id": "false-special",
   "metadata": {
    "ExecuteTime": {
     "end_time": "2022-01-27T13:32:37.077464Z",
     "start_time": "2022-01-27T13:32:37.062477Z"
    },
    "scrolled": false
   },
   "outputs": [],
   "source": [
    "def GetHistoCoinBase(tickers,startdate,enddate,timeframe):\n",
    "    #date format as string arg must be YYYY-MM-DD, and tickers a list of ticker(s)\n",
    "    granularity = timeframe \n",
    "    for ticker in tickers:\n",
    "        end_ = arrow.get(enddate).timestamp\n",
    "        start_ = arrow.get(startdate).timestamp #creates a loop limit        \n",
    "        date_line_limit = 200  #Coinbase limit is 200\n",
    "        date_limit = end_ - (granularity*date_line_limit)\n",
    "        ticker_df = []\n",
    "        while date_limit >= start_:\n",
    "\n",
    "            url = f'https://api.pro.coinbase.com/products/{ticker}/candles'.format()\n",
    "\n",
    "            params_histo = {'granularity' : granularity,\n",
    "                        'start' : arrow.get(date_limit),\n",
    "                        'end' : arrow.get(end_)}\n",
    "\n",
    "            r = requests.get(url=url,params=params_histo)\n",
    "            data = r.json()\n",
    "            time.sleep(0.1)\n",
    "\n",
    "            if data is None:\n",
    "                break\n",
    "            elif end_ == data[-1:][0][0]:\n",
    "                break\n",
    "            elif date_limit == start_:\n",
    "                break\n",
    "            else:\n",
    "                end_ = data[-1:][0][0]\n",
    "\n",
    "            for i in data:\n",
    "                ticker_df.append(i)\n",
    "\n",
    "            date_limit = end_ - (granularity*date_line_limit)\n",
    "         \n",
    "        #Tidy the DataFrame\n",
    "        column_names = ['time','Low','High','Open','Close','Volume']\n",
    "        ticker_df = pd.DataFrame(ticker_df,columns=column_names)\n",
    "        ticker_df['Date'] = [arrow.Arrow.fromtimestamp(date).format('YYYY-MM-DD HH:mm') for date in ticker_df['time']]\n",
    "        ticker_df.drop_duplicates(subset='Date',inplace=True)\n",
    "        #ticker_df.drop('time',axis=1,inplace=True)\n",
    "        ticker_df.sort_values(by='Date',inplace=True,ascending=True)\n",
    "        \n",
    "        \n",
    "        filename = [ticker.replace('/','-') if '/' in ticker else ticker][0]\n",
    "\n",
    "        path=r'C:\\Users\\Anthony\\Documents\\Python Projects\\Python-Crypto-Projects'\n",
    "        ticker_df.to_csv(f'{path}\\{filename}.csv'.format(),index=False)"
   ]
  },
  {
   "cell_type": "code",
   "execution_count": 26,
   "id": "proved-genius",
   "metadata": {
    "ExecuteTime": {
     "end_time": "2022-01-18T11:34:10.087079Z",
     "start_time": "2022-01-18T11:34:05.584038Z"
    }
   },
   "outputs": [],
   "source": [
    "#Example for ETH spot price daily\n",
    "GetHistoCoinBase(['ETH-USD'],'2015-10-10','2022-01-16',86400)"
   ]
  },
  {
   "cell_type": "code",
   "execution_count": 2,
   "id": "nonprofit-commonwealth",
   "metadata": {
    "ExecuteTime": {
     "end_time": "2022-01-19T11:40:37.820784Z",
     "start_time": "2022-01-19T11:40:37.799741Z"
    }
   },
   "outputs": [],
   "source": [
    "df = pd.read_csv('ETH-USD.csv')"
   ]
  },
  {
   "cell_type": "code",
   "execution_count": 3,
   "id": "daily-resident",
   "metadata": {
    "ExecuteTime": {
     "end_time": "2022-01-19T11:40:38.387623Z",
     "start_time": "2022-01-19T11:40:38.357671Z"
    }
   },
   "outputs": [
    {
     "data": {
      "text/html": [
       "<div>\n",
       "<style scoped>\n",
       "    .dataframe tbody tr th:only-of-type {\n",
       "        vertical-align: middle;\n",
       "    }\n",
       "\n",
       "    .dataframe tbody tr th {\n",
       "        vertical-align: top;\n",
       "    }\n",
       "\n",
       "    .dataframe thead th {\n",
       "        text-align: right;\n",
       "    }\n",
       "</style>\n",
       "<table border=\"1\" class=\"dataframe\">\n",
       "  <thead>\n",
       "    <tr style=\"text-align: right;\">\n",
       "      <th></th>\n",
       "      <th>time</th>\n",
       "      <th>Low</th>\n",
       "      <th>High</th>\n",
       "      <th>Open</th>\n",
       "      <th>Close</th>\n",
       "      <th>Volume</th>\n",
       "      <th>Date</th>\n",
       "    </tr>\n",
       "  </thead>\n",
       "  <tbody>\n",
       "    <tr>\n",
       "      <th>0</th>\n",
       "      <td>1463529600</td>\n",
       "      <td>12.50</td>\n",
       "      <td>14.93</td>\n",
       "      <td>12.50</td>\n",
       "      <td>13.18</td>\n",
       "      <td>482.521827</td>\n",
       "      <td>2016-05-18 01:00</td>\n",
       "    </tr>\n",
       "    <tr>\n",
       "      <th>1</th>\n",
       "      <td>1463616000</td>\n",
       "      <td>13.00</td>\n",
       "      <td>14.90</td>\n",
       "      <td>13.18</td>\n",
       "      <td>14.90</td>\n",
       "      <td>950.441205</td>\n",
       "      <td>2016-05-19 01:00</td>\n",
       "    </tr>\n",
       "    <tr>\n",
       "      <th>2</th>\n",
       "      <td>1463702400</td>\n",
       "      <td>13.71</td>\n",
       "      <td>14.82</td>\n",
       "      <td>14.82</td>\n",
       "      <td>14.17</td>\n",
       "      <td>254.166617</td>\n",
       "      <td>2016-05-20 01:00</td>\n",
       "    </tr>\n",
       "    <tr>\n",
       "      <th>3</th>\n",
       "      <td>1463961600</td>\n",
       "      <td>13.61</td>\n",
       "      <td>13.91</td>\n",
       "      <td>13.86</td>\n",
       "      <td>13.61</td>\n",
       "      <td>180.786712</td>\n",
       "      <td>2016-05-23 01:00</td>\n",
       "    </tr>\n",
       "    <tr>\n",
       "      <th>4</th>\n",
       "      <td>1464048000</td>\n",
       "      <td>12.00</td>\n",
       "      <td>13.74</td>\n",
       "      <td>13.68</td>\n",
       "      <td>12.77</td>\n",
       "      <td>2753.239298</td>\n",
       "      <td>2016-05-24 01:00</td>\n",
       "    </tr>\n",
       "  </tbody>\n",
       "</table>\n",
       "</div>"
      ],
      "text/plain": [
       "         time    Low   High   Open  Close       Volume              Date\n",
       "0  1463529600  12.50  14.93  12.50  13.18   482.521827  2016-05-18 01:00\n",
       "1  1463616000  13.00  14.90  13.18  14.90   950.441205  2016-05-19 01:00\n",
       "2  1463702400  13.71  14.82  14.82  14.17   254.166617  2016-05-20 01:00\n",
       "3  1463961600  13.61  13.91  13.86  13.61   180.786712  2016-05-23 01:00\n",
       "4  1464048000  12.00  13.74  13.68  12.77  2753.239298  2016-05-24 01:00"
      ]
     },
     "execution_count": 3,
     "metadata": {},
     "output_type": "execute_result"
    }
   ],
   "source": [
    "df.head()"
   ]
  },
  {
   "cell_type": "code",
   "execution_count": 29,
   "id": "exact-maryland",
   "metadata": {
    "ExecuteTime": {
     "end_time": "2022-01-18T11:37:25.318245Z",
     "start_time": "2022-01-18T11:37:25.301267Z"
    }
   },
   "outputs": [],
   "source": [
    "df['check'] = df['time'].diff()"
   ]
  },
  {
   "cell_type": "code",
   "execution_count": 4,
   "id": "continental-heather",
   "metadata": {
    "ExecuteTime": {
     "end_time": "2022-01-19T11:40:48.206889Z",
     "start_time": "2022-01-19T11:40:48.195918Z"
    }
   },
   "outputs": [],
   "source": [
    "df = df[3:]"
   ]
  },
  {
   "cell_type": "code",
   "execution_count": 39,
   "id": "automatic-shade",
   "metadata": {
    "ExecuteTime": {
     "end_time": "2022-01-18T11:40:28.840403Z",
     "start_time": "2022-01-18T11:40:28.832427Z"
    }
   },
   "outputs": [],
   "source": [
    "df.drop('check',axis=1,inplace=True)"
   ]
  },
  {
   "cell_type": "code",
   "execution_count": 40,
   "id": "common-table",
   "metadata": {
    "ExecuteTime": {
     "end_time": "2022-01-18T11:40:45.027492Z",
     "start_time": "2022-01-18T11:40:45.021537Z"
    }
   },
   "outputs": [],
   "source": [
    "df.set_index('Date',inplace=True)"
   ]
  },
  {
   "cell_type": "code",
   "execution_count": 5,
   "id": "representative-durham",
   "metadata": {
    "ExecuteTime": {
     "end_time": "2022-01-19T11:40:59.891723Z",
     "start_time": "2022-01-19T11:40:59.861522Z"
    }
   },
   "outputs": [],
   "source": [
    "df['Return'] = np.log(df['Close']/df['Close'].shift(1))"
   ]
  },
  {
   "cell_type": "code",
   "execution_count": 6,
   "id": "tested-turner",
   "metadata": {
    "ExecuteTime": {
     "end_time": "2022-01-19T11:41:00.754570Z",
     "start_time": "2022-01-19T11:41:00.729665Z"
    }
   },
   "outputs": [
    {
     "data": {
      "text/html": [
       "<div>\n",
       "<style scoped>\n",
       "    .dataframe tbody tr th:only-of-type {\n",
       "        vertical-align: middle;\n",
       "    }\n",
       "\n",
       "    .dataframe tbody tr th {\n",
       "        vertical-align: top;\n",
       "    }\n",
       "\n",
       "    .dataframe thead th {\n",
       "        text-align: right;\n",
       "    }\n",
       "</style>\n",
       "<table border=\"1\" class=\"dataframe\">\n",
       "  <thead>\n",
       "    <tr style=\"text-align: right;\">\n",
       "      <th></th>\n",
       "      <th>time</th>\n",
       "      <th>Low</th>\n",
       "      <th>High</th>\n",
       "      <th>Open</th>\n",
       "      <th>Close</th>\n",
       "      <th>Volume</th>\n",
       "      <th>Date</th>\n",
       "      <th>Return</th>\n",
       "    </tr>\n",
       "  </thead>\n",
       "  <tbody>\n",
       "    <tr>\n",
       "      <th>3</th>\n",
       "      <td>1463961600</td>\n",
       "      <td>13.61</td>\n",
       "      <td>13.91</td>\n",
       "      <td>13.86</td>\n",
       "      <td>13.61</td>\n",
       "      <td>180.786712</td>\n",
       "      <td>2016-05-23 01:00</td>\n",
       "      <td>NaN</td>\n",
       "    </tr>\n",
       "    <tr>\n",
       "      <th>4</th>\n",
       "      <td>1464048000</td>\n",
       "      <td>12.00</td>\n",
       "      <td>13.74</td>\n",
       "      <td>13.68</td>\n",
       "      <td>12.77</td>\n",
       "      <td>2753.239298</td>\n",
       "      <td>2016-05-24 01:00</td>\n",
       "      <td>-0.063706</td>\n",
       "    </tr>\n",
       "    <tr>\n",
       "      <th>5</th>\n",
       "      <td>1464134400</td>\n",
       "      <td>11.93</td>\n",
       "      <td>13.18</td>\n",
       "      <td>13.00</td>\n",
       "      <td>12.61</td>\n",
       "      <td>9697.181591</td>\n",
       "      <td>2016-05-25 01:00</td>\n",
       "      <td>-0.012609</td>\n",
       "    </tr>\n",
       "    <tr>\n",
       "      <th>6</th>\n",
       "      <td>1464220800</td>\n",
       "      <td>12.15</td>\n",
       "      <td>12.95</td>\n",
       "      <td>12.61</td>\n",
       "      <td>12.47</td>\n",
       "      <td>2989.890959</td>\n",
       "      <td>2016-05-26 01:00</td>\n",
       "      <td>-0.011164</td>\n",
       "    </tr>\n",
       "    <tr>\n",
       "      <th>7</th>\n",
       "      <td>1464307200</td>\n",
       "      <td>10.25</td>\n",
       "      <td>12.47</td>\n",
       "      <td>12.47</td>\n",
       "      <td>10.98</td>\n",
       "      <td>19334.802700</td>\n",
       "      <td>2016-05-27 01:00</td>\n",
       "      <td>-0.127250</td>\n",
       "    </tr>\n",
       "  </tbody>\n",
       "</table>\n",
       "</div>"
      ],
      "text/plain": [
       "         time    Low   High   Open  Close        Volume              Date  \\\n",
       "3  1463961600  13.61  13.91  13.86  13.61    180.786712  2016-05-23 01:00   \n",
       "4  1464048000  12.00  13.74  13.68  12.77   2753.239298  2016-05-24 01:00   \n",
       "5  1464134400  11.93  13.18  13.00  12.61   9697.181591  2016-05-25 01:00   \n",
       "6  1464220800  12.15  12.95  12.61  12.47   2989.890959  2016-05-26 01:00   \n",
       "7  1464307200  10.25  12.47  12.47  10.98  19334.802700  2016-05-27 01:00   \n",
       "\n",
       "     Return  \n",
       "3       NaN  \n",
       "4 -0.063706  \n",
       "5 -0.012609  \n",
       "6 -0.011164  \n",
       "7 -0.127250  "
      ]
     },
     "execution_count": 6,
     "metadata": {},
     "output_type": "execute_result"
    }
   ],
   "source": [
    "df.head()"
   ]
  },
  {
   "cell_type": "code",
   "execution_count": 7,
   "id": "black-split",
   "metadata": {
    "ExecuteTime": {
     "end_time": "2022-01-19T11:41:07.567312Z",
     "start_time": "2022-01-19T11:41:07.551328Z"
    }
   },
   "outputs": [],
   "source": [
    "df.fillna(0,inplace=True)"
   ]
  },
  {
   "cell_type": "code",
   "execution_count": 8,
   "id": "inner-depression",
   "metadata": {
    "ExecuteTime": {
     "end_time": "2022-01-19T11:41:13.595389Z",
     "start_time": "2022-01-19T11:41:13.578434Z"
    }
   },
   "outputs": [],
   "source": [
    "df.reset_index(inplace=True)"
   ]
  },
  {
   "cell_type": "code",
   "execution_count": 9,
   "id": "bronze-prayer",
   "metadata": {
    "ExecuteTime": {
     "end_time": "2022-01-19T11:41:22.787310Z",
     "start_time": "2022-01-19T11:41:22.779330Z"
    }
   },
   "outputs": [],
   "source": [
    "df['Date'] = pd.to_datetime(df['Date'])"
   ]
  },
  {
   "cell_type": "code",
   "execution_count": 10,
   "id": "spanish-entertainment",
   "metadata": {
    "ExecuteTime": {
     "end_time": "2022-01-19T11:41:24.566046Z",
     "start_time": "2022-01-19T11:41:24.251005Z"
    },
    "scrolled": true
   },
   "outputs": [
    {
     "ename": "ValueError",
     "evalue": "The truth value of a Series is ambiguous. Use a.empty, a.bool(), a.item(), a.any() or a.all().",
     "output_type": "error",
     "traceback": [
      "\u001b[1;31m---------------------------------------------------------------------------\u001b[0m",
      "\u001b[1;31mValueError\u001b[0m                                Traceback (most recent call last)",
      "\u001b[1;32m<ipython-input-10-f467673ba929>\u001b[0m in \u001b[0;36m<module>\u001b[1;34m\u001b[0m\n\u001b[0;32m      1\u001b[0m \u001b[0mpd\u001b[0m\u001b[1;33m.\u001b[0m\u001b[0moptions\u001b[0m\u001b[1;33m.\u001b[0m\u001b[0mdisplay\u001b[0m\u001b[1;33m.\u001b[0m\u001b[0mmax_rows\u001b[0m \u001b[1;33m=\u001b[0m \u001b[1;36m1000\u001b[0m\u001b[1;33m\u001b[0m\u001b[1;33m\u001b[0m\u001b[0m\n\u001b[1;32m----> 2\u001b[1;33m \u001b[0mdf_agg\u001b[0m \u001b[1;33m=\u001b[0m \u001b[0mdf\u001b[0m\u001b[1;33m.\u001b[0m\u001b[0mgroupby\u001b[0m\u001b[1;33m(\u001b[0m\u001b[1;33m[\u001b[0m\u001b[0mdf\u001b[0m\u001b[1;33m.\u001b[0m\u001b[0mDate\u001b[0m\u001b[1;33m.\u001b[0m\u001b[0mdt\u001b[0m\u001b[1;33m.\u001b[0m\u001b[0myear\u001b[0m\u001b[1;33m,\u001b[0m\u001b[0mdf\u001b[0m\u001b[1;33m.\u001b[0m\u001b[0mDate\u001b[0m\u001b[1;33m.\u001b[0m\u001b[0mdt\u001b[0m\u001b[1;33m.\u001b[0m\u001b[0mmonth_name\u001b[0m\u001b[1;33m(\u001b[0m\u001b[1;33m)\u001b[0m\u001b[1;33m,\u001b[0m\u001b[0mdf\u001b[0m\u001b[1;33m.\u001b[0m\u001b[0mDate\u001b[0m\u001b[1;33m.\u001b[0m\u001b[0mdt\u001b[0m\u001b[1;33m.\u001b[0m\u001b[0mday_name\u001b[0m\u001b[1;33m(\u001b[0m\u001b[1;33m)\u001b[0m\u001b[1;33m]\u001b[0m\u001b[1;33m)\u001b[0m\u001b[1;33m[\u001b[0m\u001b[1;33m[\u001b[0m\u001b[1;34m'Return'\u001b[0m\u001b[1;33m]\u001b[0m\u001b[1;33m]\u001b[0m\u001b[1;33m.\u001b[0m\u001b[0mmean\u001b[0m\u001b[1;33m(\u001b[0m\u001b[1;33m)\u001b[0m\u001b[1;33m.\u001b[0m\u001b[0munstack\u001b[0m\u001b[1;33m(\u001b[0m\u001b[1;33m[\u001b[0m\u001b[0mdf\u001b[0m\u001b[1;33m.\u001b[0m\u001b[0mDate\u001b[0m\u001b[1;33m.\u001b[0m\u001b[0mdt\u001b[0m\u001b[1;33m.\u001b[0m\u001b[0myear\u001b[0m\u001b[1;33m]\u001b[0m\u001b[1;33m)\u001b[0m\u001b[1;33m\u001b[0m\u001b[1;33m\u001b[0m\u001b[0m\n\u001b[0m",
      "\u001b[1;32m~\\Anaconda3\\lib\\site-packages\\pandas\\core\\frame.py\u001b[0m in \u001b[0;36munstack\u001b[1;34m(self, level, fill_value)\u001b[0m\n\u001b[0;32m   7347\u001b[0m         \u001b[1;32mfrom\u001b[0m \u001b[0mpandas\u001b[0m\u001b[1;33m.\u001b[0m\u001b[0mcore\u001b[0m\u001b[1;33m.\u001b[0m\u001b[0mreshape\u001b[0m\u001b[1;33m.\u001b[0m\u001b[0mreshape\u001b[0m \u001b[1;32mimport\u001b[0m \u001b[0munstack\u001b[0m\u001b[1;33m\u001b[0m\u001b[1;33m\u001b[0m\u001b[0m\n\u001b[0;32m   7348\u001b[0m \u001b[1;33m\u001b[0m\u001b[0m\n\u001b[1;32m-> 7349\u001b[1;33m         \u001b[0mresult\u001b[0m \u001b[1;33m=\u001b[0m \u001b[0munstack\u001b[0m\u001b[1;33m(\u001b[0m\u001b[0mself\u001b[0m\u001b[1;33m,\u001b[0m \u001b[0mlevel\u001b[0m\u001b[1;33m,\u001b[0m \u001b[0mfill_value\u001b[0m\u001b[1;33m)\u001b[0m\u001b[1;33m\u001b[0m\u001b[1;33m\u001b[0m\u001b[0m\n\u001b[0m\u001b[0;32m   7350\u001b[0m \u001b[1;33m\u001b[0m\u001b[0m\n\u001b[0;32m   7351\u001b[0m         \u001b[1;32mreturn\u001b[0m \u001b[0mresult\u001b[0m\u001b[1;33m.\u001b[0m\u001b[0m__finalize__\u001b[0m\u001b[1;33m(\u001b[0m\u001b[0mself\u001b[0m\u001b[1;33m,\u001b[0m \u001b[0mmethod\u001b[0m\u001b[1;33m=\u001b[0m\u001b[1;34m\"unstack\"\u001b[0m\u001b[1;33m)\u001b[0m\u001b[1;33m\u001b[0m\u001b[1;33m\u001b[0m\u001b[0m\n",
      "\u001b[1;32m~\\Anaconda3\\lib\\site-packages\\pandas\\core\\reshape\\reshape.py\u001b[0m in \u001b[0;36munstack\u001b[1;34m(obj, level, fill_value)\u001b[0m\n\u001b[0;32m    410\u001b[0m \u001b[1;33m\u001b[0m\u001b[0m\n\u001b[0;32m    411\u001b[0m     \u001b[1;31m# Prioritize integer interpretation (GH #21677):\u001b[0m\u001b[1;33m\u001b[0m\u001b[1;33m\u001b[0m\u001b[1;33m\u001b[0m\u001b[0m\n\u001b[1;32m--> 412\u001b[1;33m     \u001b[1;32mif\u001b[0m \u001b[1;32mnot\u001b[0m \u001b[0mis_integer\u001b[0m\u001b[1;33m(\u001b[0m\u001b[0mlevel\u001b[0m\u001b[1;33m)\u001b[0m \u001b[1;32mand\u001b[0m \u001b[1;32mnot\u001b[0m \u001b[0mlevel\u001b[0m \u001b[1;33m==\u001b[0m \u001b[1;34m\"__placeholder__\"\u001b[0m\u001b[1;33m:\u001b[0m\u001b[1;33m\u001b[0m\u001b[1;33m\u001b[0m\u001b[0m\n\u001b[0m\u001b[0;32m    413\u001b[0m         \u001b[0mlevel\u001b[0m \u001b[1;33m=\u001b[0m \u001b[0mobj\u001b[0m\u001b[1;33m.\u001b[0m\u001b[0mindex\u001b[0m\u001b[1;33m.\u001b[0m\u001b[0m_get_level_number\u001b[0m\u001b[1;33m(\u001b[0m\u001b[0mlevel\u001b[0m\u001b[1;33m)\u001b[0m\u001b[1;33m\u001b[0m\u001b[1;33m\u001b[0m\u001b[0m\n\u001b[0;32m    414\u001b[0m \u001b[1;33m\u001b[0m\u001b[0m\n",
      "\u001b[1;32m~\\Anaconda3\\lib\\site-packages\\pandas\\core\\generic.py\u001b[0m in \u001b[0;36m__nonzero__\u001b[1;34m(self)\u001b[0m\n\u001b[0;32m   1440\u001b[0m     \u001b[1;32mdef\u001b[0m \u001b[0m__nonzero__\u001b[0m\u001b[1;33m(\u001b[0m\u001b[0mself\u001b[0m\u001b[1;33m)\u001b[0m\u001b[1;33m:\u001b[0m\u001b[1;33m\u001b[0m\u001b[1;33m\u001b[0m\u001b[0m\n\u001b[0;32m   1441\u001b[0m         raise ValueError(\n\u001b[1;32m-> 1442\u001b[1;33m             \u001b[1;34mf\"The truth value of a {type(self).__name__} is ambiguous. \"\u001b[0m\u001b[1;33m\u001b[0m\u001b[1;33m\u001b[0m\u001b[0m\n\u001b[0m\u001b[0;32m   1443\u001b[0m             \u001b[1;34m\"Use a.empty, a.bool(), a.item(), a.any() or a.all().\"\u001b[0m\u001b[1;33m\u001b[0m\u001b[1;33m\u001b[0m\u001b[0m\n\u001b[0;32m   1444\u001b[0m         )\n",
      "\u001b[1;31mValueError\u001b[0m: The truth value of a Series is ambiguous. Use a.empty, a.bool(), a.item(), a.any() or a.all()."
     ]
    }
   ],
   "source": [
    "pd.options.display.max_rows = 1000\n",
    "df_agg = df.groupby([df.Date.dt.year,df.Date.dt.month_name(),df.Date.dt.day_name()])[['Return']].mean().unstack([df.Date.dt.year])"
   ]
  },
  {
   "cell_type": "code",
   "execution_count": 11,
   "id": "cathedral-peace",
   "metadata": {
    "ExecuteTime": {
     "end_time": "2022-01-19T11:41:26.806081Z",
     "start_time": "2022-01-19T11:41:26.785108Z"
    },
    "scrolled": false
   },
   "outputs": [],
   "source": [
    "df['year'] = df.Date.dt.year\n",
    "df['month'] = df.Date.dt.month_name()\n",
    "df['day'] = df.Date.dt.day_name()"
   ]
  },
  {
   "cell_type": "code",
   "execution_count": 12,
   "id": "rapid-melbourne",
   "metadata": {
    "ExecuteTime": {
     "end_time": "2022-01-19T11:41:27.490098Z",
     "start_time": "2022-01-19T11:41:27.355457Z"
    },
    "scrolled": true
   },
   "outputs": [
    {
     "data": {
      "text/html": [
       "<div>\n",
       "<style scoped>\n",
       "    .dataframe tbody tr th:only-of-type {\n",
       "        vertical-align: middle;\n",
       "    }\n",
       "\n",
       "    .dataframe tbody tr th {\n",
       "        vertical-align: top;\n",
       "    }\n",
       "\n",
       "    .dataframe thead tr th {\n",
       "        text-align: left;\n",
       "    }\n",
       "\n",
       "    .dataframe thead tr:last-of-type th {\n",
       "        text-align: right;\n",
       "    }\n",
       "</style>\n",
       "<table border=\"1\" class=\"dataframe\">\n",
       "  <thead>\n",
       "    <tr>\n",
       "      <th></th>\n",
       "      <th colspan=\"7\" halign=\"left\">Return</th>\n",
       "    </tr>\n",
       "    <tr>\n",
       "      <th>day</th>\n",
       "      <th>Friday</th>\n",
       "      <th>Monday</th>\n",
       "      <th>Saturday</th>\n",
       "      <th>Sunday</th>\n",
       "      <th>Thursday</th>\n",
       "      <th>Tuesday</th>\n",
       "      <th>Wednesday</th>\n",
       "    </tr>\n",
       "    <tr>\n",
       "      <th>year</th>\n",
       "      <th></th>\n",
       "      <th></th>\n",
       "      <th></th>\n",
       "      <th></th>\n",
       "      <th></th>\n",
       "      <th></th>\n",
       "      <th></th>\n",
       "    </tr>\n",
       "  </thead>\n",
       "  <tbody>\n",
       "    <tr>\n",
       "      <th>2016</th>\n",
       "      <td>50.000000</td>\n",
       "      <td>56.250000</td>\n",
       "      <td>65.625000</td>\n",
       "      <td>61.290323</td>\n",
       "      <td>59.375000</td>\n",
       "      <td>53.125000</td>\n",
       "      <td>53.125000</td>\n",
       "    </tr>\n",
       "    <tr>\n",
       "      <th>2017</th>\n",
       "      <td>48.076923</td>\n",
       "      <td>40.384615</td>\n",
       "      <td>38.461538</td>\n",
       "      <td>47.169811</td>\n",
       "      <td>50.000000</td>\n",
       "      <td>44.230769</td>\n",
       "      <td>53.846154</td>\n",
       "    </tr>\n",
       "    <tr>\n",
       "      <th>2018</th>\n",
       "      <td>42.307692</td>\n",
       "      <td>64.150943</td>\n",
       "      <td>36.538462</td>\n",
       "      <td>42.307692</td>\n",
       "      <td>53.846154</td>\n",
       "      <td>55.769231</td>\n",
       "      <td>61.538462</td>\n",
       "    </tr>\n",
       "    <tr>\n",
       "      <th>2019</th>\n",
       "      <td>34.615385</td>\n",
       "      <td>51.923077</td>\n",
       "      <td>46.153846</td>\n",
       "      <td>53.846154</td>\n",
       "      <td>61.538462</td>\n",
       "      <td>62.264151</td>\n",
       "      <td>46.153846</td>\n",
       "    </tr>\n",
       "    <tr>\n",
       "      <th>2020</th>\n",
       "      <td>48.076923</td>\n",
       "      <td>42.307692</td>\n",
       "      <td>34.615385</td>\n",
       "      <td>44.230769</td>\n",
       "      <td>50.943396</td>\n",
       "      <td>51.923077</td>\n",
       "      <td>41.509434</td>\n",
       "    </tr>\n",
       "    <tr>\n",
       "      <th>2021</th>\n",
       "      <td>56.603774</td>\n",
       "      <td>48.076923</td>\n",
       "      <td>42.307692</td>\n",
       "      <td>42.307692</td>\n",
       "      <td>44.230769</td>\n",
       "      <td>46.153846</td>\n",
       "      <td>30.769231</td>\n",
       "    </tr>\n",
       "    <tr>\n",
       "      <th>2022</th>\n",
       "      <td>50.000000</td>\n",
       "      <td>100.000000</td>\n",
       "      <td>33.333333</td>\n",
       "      <td>0.000000</td>\n",
       "      <td>100.000000</td>\n",
       "      <td>0.000000</td>\n",
       "      <td>50.000000</td>\n",
       "    </tr>\n",
       "  </tbody>\n",
       "</table>\n",
       "</div>"
      ],
      "text/plain": [
       "         Return                                                           \\\n",
       "day      Friday      Monday   Saturday     Sunday    Thursday    Tuesday   \n",
       "year                                                                       \n",
       "2016  50.000000   56.250000  65.625000  61.290323   59.375000  53.125000   \n",
       "2017  48.076923   40.384615  38.461538  47.169811   50.000000  44.230769   \n",
       "2018  42.307692   64.150943  36.538462  42.307692   53.846154  55.769231   \n",
       "2019  34.615385   51.923077  46.153846  53.846154   61.538462  62.264151   \n",
       "2020  48.076923   42.307692  34.615385  44.230769   50.943396  51.923077   \n",
       "2021  56.603774   48.076923  42.307692  42.307692   44.230769  46.153846   \n",
       "2022  50.000000  100.000000  33.333333   0.000000  100.000000   0.000000   \n",
       "\n",
       "                 \n",
       "day   Wednesday  \n",
       "year             \n",
       "2016  53.125000  \n",
       "2017  53.846154  \n",
       "2018  61.538462  \n",
       "2019  46.153846  \n",
       "2020  41.509434  \n",
       "2021  30.769231  \n",
       "2022  50.000000  "
      ]
     },
     "execution_count": 12,
     "metadata": {},
     "output_type": "execute_result"
    }
   ],
   "source": [
    "df.groupby([df.year,df.day])[['Return']].apply(lambda x: x[x<0].count()/x.count()*100).unstack()"
   ]
  },
  {
   "cell_type": "code",
   "execution_count": 13,
   "id": "domestic-jordan",
   "metadata": {
    "ExecuteTime": {
     "end_time": "2022-01-19T11:41:30.473967Z",
     "start_time": "2022-01-19T11:41:30.343317Z"
    }
   },
   "outputs": [
    {
     "data": {
      "text/html": [
       "<div>\n",
       "<style scoped>\n",
       "    .dataframe tbody tr th:only-of-type {\n",
       "        vertical-align: middle;\n",
       "    }\n",
       "\n",
       "    .dataframe tbody tr th {\n",
       "        vertical-align: top;\n",
       "    }\n",
       "\n",
       "    .dataframe thead tr th {\n",
       "        text-align: left;\n",
       "    }\n",
       "\n",
       "    .dataframe thead tr:last-of-type th {\n",
       "        text-align: right;\n",
       "    }\n",
       "</style>\n",
       "<table border=\"1\" class=\"dataframe\">\n",
       "  <thead>\n",
       "    <tr>\n",
       "      <th></th>\n",
       "      <th colspan=\"7\" halign=\"left\">Return</th>\n",
       "    </tr>\n",
       "    <tr>\n",
       "      <th>day</th>\n",
       "      <th>Friday</th>\n",
       "      <th>Monday</th>\n",
       "      <th>Saturday</th>\n",
       "      <th>Sunday</th>\n",
       "      <th>Thursday</th>\n",
       "      <th>Tuesday</th>\n",
       "      <th>Wednesday</th>\n",
       "    </tr>\n",
       "    <tr>\n",
       "      <th>year</th>\n",
       "      <th></th>\n",
       "      <th></th>\n",
       "      <th></th>\n",
       "      <th></th>\n",
       "      <th></th>\n",
       "      <th></th>\n",
       "      <th></th>\n",
       "    </tr>\n",
       "  </thead>\n",
       "  <tbody>\n",
       "    <tr>\n",
       "      <th>2016</th>\n",
       "      <td>50.000000</td>\n",
       "      <td>43.750000</td>\n",
       "      <td>34.375000</td>\n",
       "      <td>38.709677</td>\n",
       "      <td>40.625000</td>\n",
       "      <td>46.875000</td>\n",
       "      <td>46.875000</td>\n",
       "    </tr>\n",
       "    <tr>\n",
       "      <th>2017</th>\n",
       "      <td>51.923077</td>\n",
       "      <td>59.615385</td>\n",
       "      <td>61.538462</td>\n",
       "      <td>52.830189</td>\n",
       "      <td>50.000000</td>\n",
       "      <td>55.769231</td>\n",
       "      <td>46.153846</td>\n",
       "    </tr>\n",
       "    <tr>\n",
       "      <th>2018</th>\n",
       "      <td>57.692308</td>\n",
       "      <td>35.849057</td>\n",
       "      <td>63.461538</td>\n",
       "      <td>57.692308</td>\n",
       "      <td>46.153846</td>\n",
       "      <td>44.230769</td>\n",
       "      <td>38.461538</td>\n",
       "    </tr>\n",
       "    <tr>\n",
       "      <th>2019</th>\n",
       "      <td>65.384615</td>\n",
       "      <td>48.076923</td>\n",
       "      <td>53.846154</td>\n",
       "      <td>46.153846</td>\n",
       "      <td>38.461538</td>\n",
       "      <td>37.735849</td>\n",
       "      <td>53.846154</td>\n",
       "    </tr>\n",
       "    <tr>\n",
       "      <th>2020</th>\n",
       "      <td>51.923077</td>\n",
       "      <td>57.692308</td>\n",
       "      <td>65.384615</td>\n",
       "      <td>55.769231</td>\n",
       "      <td>49.056604</td>\n",
       "      <td>48.076923</td>\n",
       "      <td>58.490566</td>\n",
       "    </tr>\n",
       "    <tr>\n",
       "      <th>2021</th>\n",
       "      <td>43.396226</td>\n",
       "      <td>51.923077</td>\n",
       "      <td>57.692308</td>\n",
       "      <td>57.692308</td>\n",
       "      <td>55.769231</td>\n",
       "      <td>53.846154</td>\n",
       "      <td>69.230769</td>\n",
       "    </tr>\n",
       "    <tr>\n",
       "      <th>2022</th>\n",
       "      <td>50.000000</td>\n",
       "      <td>0.000000</td>\n",
       "      <td>66.666667</td>\n",
       "      <td>100.000000</td>\n",
       "      <td>0.000000</td>\n",
       "      <td>100.000000</td>\n",
       "      <td>50.000000</td>\n",
       "    </tr>\n",
       "  </tbody>\n",
       "</table>\n",
       "</div>"
      ],
      "text/plain": [
       "         Return                                                           \\\n",
       "day      Friday     Monday   Saturday      Sunday   Thursday     Tuesday   \n",
       "year                                                                       \n",
       "2016  50.000000  43.750000  34.375000   38.709677  40.625000   46.875000   \n",
       "2017  51.923077  59.615385  61.538462   52.830189  50.000000   55.769231   \n",
       "2018  57.692308  35.849057  63.461538   57.692308  46.153846   44.230769   \n",
       "2019  65.384615  48.076923  53.846154   46.153846  38.461538   37.735849   \n",
       "2020  51.923077  57.692308  65.384615   55.769231  49.056604   48.076923   \n",
       "2021  43.396226  51.923077  57.692308   57.692308  55.769231   53.846154   \n",
       "2022  50.000000   0.000000  66.666667  100.000000   0.000000  100.000000   \n",
       "\n",
       "                 \n",
       "day   Wednesday  \n",
       "year             \n",
       "2016  46.875000  \n",
       "2017  46.153846  \n",
       "2018  38.461538  \n",
       "2019  53.846154  \n",
       "2020  58.490566  \n",
       "2021  69.230769  \n",
       "2022  50.000000  "
      ]
     },
     "execution_count": 13,
     "metadata": {},
     "output_type": "execute_result"
    }
   ],
   "source": [
    "df.groupby([df.year,df.day])[['Return']].apply(lambda x: x[x>=0].count()/x.count()*100).unstack()"
   ]
  },
  {
   "cell_type": "code",
   "execution_count": 94,
   "id": "serious-arbor",
   "metadata": {
    "ExecuteTime": {
     "end_time": "2022-01-27T14:34:28.117854Z",
     "start_time": "2022-01-27T14:34:28.097994Z"
    }
   },
   "outputs": [],
   "source": [
    "def GetHistoKucoin(tickers,startdate,enddate,candletype):\n",
    "    #date format as string arg must be YYYY-MM-DD, and tickers a list of ticker(s)\n",
    "    #Candle Type of candlestick patterns: \n",
    "    #1min, 3min, 5min, 15min, 30min, 1hour, 2hour, 4hour, 6hour, 8hour, 12hour, 1day, 1week\n",
    "    \n",
    "    granularity = {'1min':int(86400/1440),\n",
    "                    '3min':int(86400/480),\n",
    "                   '5min':int(86400/288),\n",
    "                  '15min':int(86400/96),\n",
    "                    '30min':int(86400/48),\n",
    "                    '1hour':int(86400/24),\n",
    "                    '2hour':int(86400/12),\n",
    "                    '4hour':int(86400/6),\n",
    "                     '6hour':int(86400/4),\n",
    "                       '8hour':int(86400/3),\n",
    "                       '12hour':int(86400/2),\n",
    "                      '1day':int(86400),\n",
    "                         '1week':int(86400*7)} \n",
    "    \n",
    "    \n",
    "    for ticker in tickers:\n",
    "        end_ = arrow.get(enddate).timestamp\n",
    "        start_ = arrow.get(startdate).timestamp #creates a loop limit        \n",
    "        date_line_limit = int(200)  #Coinbase limit is 200\n",
    "        date_limit = end_ - (granularity[candletype]*date_line_limit)\n",
    "        ticker_df = []\n",
    "        while date_limit >= start_:\n",
    "\n",
    "            url = f'https://api.kucoin.com/api/v1/market/candles'.format()\n",
    "\n",
    "            params_histo = {'symbol' : ticker,\n",
    "                        'type' : candletype,\n",
    "                        'startAt' : date_limit,\n",
    "                        'endAt' : end_}\n",
    "            time.sleep(1)\n",
    "            r = requests.get(url=url,params=params_histo)\n",
    "            data = r.json()\n",
    "\n",
    "            print(data)\n",
    "            if data['code'] != '200000':\n",
    "                print(data['msg'])\n",
    "                break\n",
    "            elif date_limit == start_:\n",
    "                print('job done')\n",
    "                break\n",
    "            elif len(data['data']) is 0:\n",
    "                print('no data')\n",
    "                break\n",
    "            else:\n",
    "                end_ = int(data['data'][-1][0])\n",
    "                print(end_)\n",
    "\n",
    "            for i in data['data']:\n",
    "                ticker_df.append(i)\n",
    "\n",
    "            date_limit = end_ - (granularity[candletype]*date_line_limit)\n",
    "         \n",
    "        #Tidy the DataFrame\n",
    "        column_names = ['time','Open','Close','High','Low','Volume','Turnover']\n",
    "        ticker_df = pd.DataFrame(ticker_df,columns=column_names)\n",
    "        ticker_df['Date'] = [arrow.Arrow.fromtimestamp(date).format('YYYY-MM-DD HH:mm') for date in ticker_df['time']]\n",
    "        ticker_df.drop_duplicates(subset='time',inplace=True)\n",
    "        #ticker_df.drop('time',axis=1,inplace=True)\n",
    "        ticker_df.sort_values(by='Date',inplace=True,ascending=True)\n",
    "        \n",
    "        \n",
    "        filename = [ticker.replace('/','-') if '/' in ticker else ticker][0]\n",
    "\n",
    "        path=r'C:\\Users\\Anthony\\Documents\\Python Projects\\Python-Crypto-Projects'\n",
    "        ticker_df.to_csv(f'{path}\\{filename}.csv'.format(),index=False)"
   ]
  },
  {
   "cell_type": "code",
   "execution_count": 95,
   "id": "inner-novelty",
   "metadata": {
    "ExecuteTime": {
     "end_time": "2022-01-27T14:35:23.097520Z",
     "start_time": "2022-01-27T14:34:31.060417Z"
    }
   },
   "outputs": [
    {
     "name": "stdout",
     "output_type": "stream",
     "text": [
      "{'code': '200000', 'data': [['1641686400', '2.28431', '2.39207', '2.52269', '2.23024', '45470568.46684998', '107881932.3788583209262'], ['1641600000', '2.60324', '2.28454', '2.6881', '2.17301', '56630685.63935413', '135799603.1811323135005'], ['1641513600', '2.88914', '2.60294', '2.89783', '2.559', '60515758.61511406', '165410953.7922608329174'], ['1641427200', '2.93701', '2.88924', '3.0323', '2.64016', '65641817.49196332', '185480833.3846191478994'], ['1641340800', '2.87955', '2.9379', '3.15881', '2.59241', '78533780.46100495', '227494633.4260587847364'], ['1641254400', '2.86983', '2.87995', '3.066', '2.80863', '53898830.94152047', '157004346.1437382905481'], ['1641168000', '2.48415', '2.86981', '2.8759', '2.37128', '55321689.50631628', '146646461.8821475601191'], ['1641081600', '2.58413', '2.48495', '2.6', '2.44605', '28169779.5642199', '70921101.2157263144053'], ['1640995200', '2.24962', '2.58419', '2.59', '2.24868', '31807697.65304676', '76534234.1715681385885'], ['1640908800', '2.10093', '2.24861', '2.33999', '2.08095', '35202593.73060782', '78314421.6290880091393'], ['1640822400', '2.1345', '2.09952', '2.229', '2.035', '34508615.45693875', '73567873.8966133976132'], ['1640736000', '2.22763', '2.13454', '2.36575', '2.1', '45352750.85698595', '101401750.9913372775216'], ['1640649600', '2.19851', '2.22645', '2.36845', '2.06336', '64954915.72851782', '143796593.5187446131375'], ['1640563200', '2.33674', '2.19939', '2.449', '2.18139', '34360018.09388594', '80482158.6028716117933'], ['1640476800', '2.11202', '2.33795', '2.38834', '2.08376', '45767653.75436413', '103075313.7461683842619'], ['1640390400', '2.08258', '2.11288', '2.17701', '1.94611', '35830770.5298044', '74365658.7185529399873'], ['1640304000', '1.86472', '2.08248', '2.23698', '1.83601', '46250466.77268158', '94649684.9354016717644'], ['1640217600', '1.59852', '1.86448', '1.9089', '1.57303', '44001033.10767958', '77532257.8708280748227'], ['1640131200', '1.48183', '1.59759', '1.66492', '1.47226', '26787472.68975021', '42526439.1691293032857'], ['1640044800', '1.36548', '1.4819', '1.49092', '1.34449', '15302967.88795859', '21861101.6354285072501'], ['1639958400', '1.42783', '1.36476', '1.44481', '1.31', '15969135.18962404', '21779373.006075130173'], ['1639872000', '1.42027', '1.42779', '1.47621', '1.3874', '14594835.97425661', '20968291.3740471932346'], ['1639785600', '1.40162', '1.42027', '1.54086', '1.35438', '18370242.65308975', '26758630.8352488453804'], ['1639699200', '1.42691', '1.40131', '1.49245', '1.33238', '17366625.76071068', '24556141.1130314472547'], ['1639612800', '1.47594', '1.42681', '1.57429', '1.42013', '18197901.63988393', '27375388.5286119180482'], ['1639526400', '1.31382', '1.47594', '1.50027', '1.25733', '17698485.90331891', '24237436.218298923239'], ['1639440000', '1.27998', '1.3146', '1.34499', '1.23855', '14768131.52116084', '19000971.5756914072092'], ['1639353600', '1.48965', '1.28023', '1.50625', '1.25', '21682748.97375804', '28912918.1299127848749'], ['1639267200', '1.48957', '1.49051', '1.55542', '1.43485', '11276247.61100026', '16780442.957343003986'], ['1639180800', '1.41355', '1.48914', '1.49095', '1.38384', '12819832.97846991', '18547093.7708171506292'], ['1639094400', '1.41724', '1.41511', '1.52026', '1.38104', '20008410.74291262', '28831518.5927429345372'], ['1639008000', '1.645', '1.41798', '1.65303', '1.403', '16475397.29306721', '24805691.4612786712602'], ['1638921600', '1.59094', '1.6448', '1.655', '1.5035', '12789073.51988556', '20222378.4762759663466'], ['1638835200', '1.59912', '1.59071', '1.71959', '1.5667', '18507114.52907441', '30426750.7168449286084'], ['1638748800', '1.52836', '1.59924', '1.61919', '1.3415', '25728832.53931693', '37711286.6400675952907'], ['1638662400', '1.72093', '1.5278', '1.76', '1.4739', '20999551.35494512', '33706464.6561120859575'], ['1638576000', '1.98252', '1.72134', '1.99165', '0.8929', '48854933.81331991', '77620908.5061699892586'], ['1638489600', '2.0658', '1.98549', '2.16093', '1.86', '15837600.91841992', '32210244.355371817825'], ['1638403200', '2.14116', '2.06634', '2.14246', '2.02095', '11091940.96239646', '23146837.772994255165'], ['1638316800', '2.13684', '2.14181', '2.27817', '2.12103', '16195203.38751925', '35717270.696266889684'], ['1638230400', '2.16157', '2.13546', '2.28527', '2.07336', '15597864.90216628', '33759505.7131061182838'], ['1638144000', '2.11312', '2.16122', '2.19095', '2.05872', '12226877.95602288', '25945802.5969905161512'], ['1638057600', '2.08147', '2.11411', '2.12221', '1.87914', '18269302.47774902', '36823119.9499391563918'], ['1637971200', '2.11725', '2.08362', '2.21756', '2.0263', '16444517.54064244', '35075786.2804291128584'], ['1637884800', '2.47213', '2.11751', '2.56062', '1.90632', '36746208.61884395', '80134845.7563633605895'], ['1637798400', '2.59097', '2.4714', '2.66989', '2.41357', '23539443.24385562', '59637898.8949008476478'], ['1637712000', '2.3133', '2.59101', '2.6186', '2.22372', '41676779.44140124', '100557226.7664464138277'], ['1637625600', '1.95038', '2.31584', '2.45432', '1.92157', '43942415.70774513', '97886805.1824855344983'], ['1637539200', '2.07502', '1.94959', '2.08823', '1.92028', '13861064.00561853', '27603932.2172893868219'], ['1637452800', '2.17987', '2.07469', '2.18249', '2.00534', '12937769.9731709', '27019871.7265248769269'], ['1637366400', '2.26212', '2.18148', '2.28369', '2.07685', '14248227.70037841', '31070496.6348581108821'], ['1637280000', '1.84792', '2.26342', '2.26437', '1.80936', '22138803.5103454', '45847241.1995771722688'], ['1637193600', '2.1517', '1.8495', '2.22607', '1.76397', '30877055.71990777', '60324233.3899806055854'], ['1637107200', '2.20268', '2.15215', '2.30992', '2.0763', '17460121.02559116', '37808902.3362535418827'], ['1637020800', '2.47109', '2.2016', '2.47109', '1.93', '22916393.7492512', '51666170.0645326991377'], ['1636934400', '2.59', '2.4701', '2.61915', '2.46095', '10189373.16753097', '25868955.8251892821825'], ['1636848000', '2.61702', '2.59009', '2.65376', '2.51162', '7798243.04635551', '20135345.7743810562309'], ['1636761600', '2.62952', '2.61764', '2.71662', '2.56709', '8917123.72149221', '23507582.8914139313435'], ['1636675200', '2.59731', '2.63121', '2.67952', '2.45463', '13974485.24611162', '36207531.1868362017708'], ['1636588800', '2.63803', '2.59743', '2.73133', '2.57442', '10987050.17668351', '28959234.3672144020199'], ['1636502400', '2.86574', '2.63844', '2.98933', '2.28074', '25839066.0622782', '70174228.2887454372857'], ['1636416000', '3.16164', '2.86454', '3.16928', '2.8539', '14604186.4129223', '43687616.2827662804947'], ['1636329600', '2.86531', '3.1619', '3.17179', '2.813', '19718883.17845892', '59547487.454261493917'], ['1636243200', '2.76895', '2.86733', '2.89998', '2.75674', '12244836.82916506', '34617117.9698844676713'], ['1636156800', '2.65373', '2.76795', '2.79256', '2.55472', '11053782.43472031', '29640954.0881025074944'], ['1636070400', '2.76941', '2.65505', '2.95823', '2.62748', '21428860.5729826', '60154112.8081982048784'], ['1635984000', '2.6686', '2.7684', '2.76938', '2.40336', '16922885.80147416', '43676643.8384096909146'], ['1635897600', '2.72493', '2.66941', '2.75397', '2.525', '15667405.13600673', '41546669.0545755927901'], ['1635811200', '2.7', '2.72492', '2.79275', '2.66793', '10611691.14639318', '28835653.0418603529355'], ['1635724800', '2.86731', '2.70226', '2.92502', '2.66856', '13965755.42169431', '38980354.0060738133569'], ['1635638400', '2.66521', '2.86723', '2.90172', '2.56', '16746403.49801903', '45266760.9582305505212'], ['1635552000', '2.87749', '2.66629', '2.99525', '2.59381', '18365063.95846582', '51068863.8472481194819'], ['1635465600', '2.92008', '2.87548', '3.08087', '2.84491', '17431163.67093162', '51767724.1001041583363'], ['1635379200', '3.10017', '2.92188', '3.486', '2.89947', '40478898.32371423', '129775946.3566093082054'], ['1635292800', '3.13963', '3.09879', '3.29674', '2.5009', '47770519.27048626', '144825855.3055700814972'], ['1635206400', '3.045', '3.13846', '3.47757', '3.02259', '35209017.01045182', '114147506.8530221872109'], ['1635120000', '2.69911', '3.04322', '3.05377', '2.68299', '18500409.77073909', '53879840.0524933918175'], ['1635033600', '2.55237', '2.69978', '2.82823', '2.54781', '18849476.6659768', '51237852.5542919131308'], ['1634947200', '2.61986', '2.55394', '2.6818', '2.4655', '14728644.60984153', '37716232.79467772046'], ['1634860800', '2.22443', '2.61938', '2.63935', '2.21451', '23297738.00001355', '57488590.4892964694412'], ['1634774400', '2.42865', '2.22522', '2.45289', '2.20204', '14060532.65094101', '32823357.7955859644202'], ['1634688000', '2.35277', '2.42569', '2.43924', '2.21', '16982763.62223753', '39964299.9430803829506'], ['1634601600', '2.21692', '2.35355', '2.49', '2.208', '21359908.00393362', '50975181.4710442386584'], ['1634515200', '2.30425', '2.21728', '2.30814', '2.14432', '12688080.11326286', '28153708.279798638465'], ['1634428800', '2.13911', '2.30425', '2.34057', '2.068', '29672194.88453608', '66562532.0948947923915'], ['1634342400', '1.9306', '2.1382', '2.15976', '1.91221', '16815044.43383605', '34333990.0577108128243'], ['1634256000', '2.02849', '1.93046', '2.07162', '1.9', '14003515.96919495', '27745552.4337742740913'], ['1634169600', '2.01302', '2.02933', '2.16202', '1.99913', '12198918.93585343', '25310257.6306092675127'], ['1634083200', '2.09306', '2.01314', '2.14928', '1.9511', '14458958.65726761', '29330502.1591101523085'], ['1633996800', '2.33678', '2.09', '2.35', '2.04', '19474291.31708493', '41900621.401630755568'], ['1633910400', '2.025', '2.33503', '2.36563', '1.96688', '30324923.002454', '66362771.2308186528284'], ['1633824000', '2.15903', '2.02646', '2.26349', '2.01132', '19953509.45296989', '42764418.1565028489207'], ['1633737600', '2.29982', '2.16012', '2.33163', '2.10588', '23918344.65143177', '52482315.4662277760855'], ['1633651200', '2.02258', '2.29613', '2.45', '1.94967', '60907449.76104589', '137052885.9881020054537'], ['1633564800', '1.61001', '2.02304', '2.0927', '1.55014', '64922632.22866762', '119030823.3030717168062'], ['1633478400', '1.415', '1.61014', '1.62', '1.28786', '21588097.9902007', '31757885.6388766378338'], ['1633392000', '1.39836', '1.41391', '1.45319', '1.36649', '8692401.35583296', '12218049.4420374026868'], ['1633305600', '1.46453', '1.39671', '1.46453', '1.3424', '14517342.46647908', '20488530.6195123957105'], ['1633219200', '1.45773', '1.46758', '1.54788', '1.405', '14400992.3789251', '21282127.899436535082'], ['1633132800', '1.41757', '1.45795', '1.523', '1.36215', '15194561.94925585', '21911037.354360218189'], ['1633046400', '1.20665', '1.41722', '1.4398', '1.19811', '23953934.12957803', '32009217.1263309898304'], ['1632960000', '1.20043', '1.20565', '1.26741', '1.18662', '13888632.20967647', '16966847.0013768587753'], ['1632873600', '1.17319', '1.20048', '1.28838', '1.15336', '17060112.30588532', '20726056.869414402759'], ['1632787200', '1.27923', '1.17419', '1.3839', '1.16411', '27347414.04078353', '34712615.2479996536162'], ['1632700800', '1.17861', '1.27923', '1.355', '1.15587', '26880653.92650163', '34147851.714752969725'], ['1632614400', '1.24285', '1.1794', '1.26', '1.09034', '22089348.25363955', '26319375.1878731531452'], ['1632528000', '1.19927', '1.24247', '1.37701', '1.18156', '26249379.06836232', '34007456.7553108965186'], ['1632441600', '1.26021', '1.19796', '1.27075', '1.05', '30842985.04129969', '35519751.7163426959365'], ['1632355200', '1.24791', '1.25983', '1.29358', '1.16438', '22905505.89855885', '28179384.9268141721782'], ['1632268800', '0.98416', '1.24995', '1.26492', '0.9702', '32446616.97579852', '36994477.5305744277694'], ['1632182400', '1.14853', '0.98436', '1.222', '0.94321', '34654728.49569748', '37776469.5656415271706'], ['1632096000', '1.45737', '1.14911', '1.488', '1.0436', '44671057.08794668', '53772900.433368162764'], ['1632009600', '1.33118', '1.45685', '1.49145', '1.28047', '21509443.74174079', '30094639.5281114149556'], ['1631923200', '1.24928', '1.3306', '1.43111', '1.22303', '17149602.99087193', '23158583.2579340073387'], ['1631836800', '1.30735', '1.24887', '1.39741', '1.22656', '14824043.10739407', '19288271.639596407149'], ['1631750400', '1.44182', '1.30774', '1.4768', '1.262', '21947181.9402452', '29967611.9386121566994'], ['1631664000', '1.20407', '1.44159', '1.52424', '1.19117', '36480595.60938989', '51324434.3802288884628'], ['1631577600', '1.30512', '1.20544', '1.32888', '1.133', '18356500.00474076', '22439220.0673004483862'], ['1631491200', '1.44488', '1.30475', '1.4535', '1.21782', '24898932.72574628', '32795668.4977242070492'], ['1631404800', '1.54597', '1.44321', '1.556', '1.37631', '17364544.88901793', '25767406.5062438719933'], ['1631318400', '1.49438', '1.5455', '1.69509', '1.436', '30520500.69016465', '47905271.9269400534145'], ['1631232000', '1.65905', '1.49567', '1.76645', '1.419', '41552668.81121375', '64886407.41927834549'], ['1631145600', '1.56517', '1.65639', '1.93999', '1.51651', '59303291.86175919', '104688641.7079834575862'], ['1631059200', '1.40384', '1.56307', '1.68', '1.25', '81095678.8045809', '118845402.1334264094132'], ['1630972800', '1.39266', '1.40341', '1.85', '1.125', '97508519.41219639', '153415247.3722519390064'], ['1630886400', '1.21466', '1.39266', '1.48', '1.15', '48239507.28704294', '64763945.787936819707'], ['1630800000', '1.06304', '1.21493', '1.27461', '1.013', '33541223.15032886', '39503152.5853796411927'], ['1630713600', '0.97665', '1.06125', '1.19', '0.96621', '44763588.09547789', '48322165.4064418364718'], ['1630627200', '0.8482', '0.97647', '0.99', '0.8128', '29132802.96863913', '26155982.8935201001109'], ['1630540800', '0.8695', '0.84736', '0.93199', '0.81247', '23412180.69710917', '20180572.1251972624548'], ['1630454400', '0.71948', '0.86949', '0.96755', '0.695', '35622777.98175239', '30761053.147464985509'], ['1630368000', '0.80003', '0.71971', '0.88731', '0.686', '26427151.69503809', '20887120.269170936136'], ['1630281600', '0.587', '0.79993', '0.91', '0.58331', '62153767.31397267', '48038026.2058262509328'], ['1630195200', '0.52317', '0.58543', '0.587', '0.49484', '7169087.74242722', '3829408.5810815037035'], ['1630108800', '0.49258', '0.52307', '0.53335', '0.46822', '5675879.23762382', '2850509.784197882054'], ['1630022400', '0.43223', '0.49257', '0.49535', '0.41814', '6789923.51911926', '3090220.1072662572589'], ['1629936000', '0.4992', '0.43336', '0.51846', '0.43189', '7376811.90933983', '3391855.8248497532179'], ['1629849600', '0.48087', '0.4988', '0.52', '0.46357', '6425287.92842793', '3169639.7065080029077'], ['1629763200', '0.55166', '0.48087', '0.55814', '0.46649', '8725022.3889894', '4479973.7364185075245'], ['1629676800', '0.55627', '0.5505', '0.58982', '0.53288', '8373767.25553714', '4712904.0169580676091'], ['1629590400', '0.57318', '0.55646', '0.59784', '0.52653', '11116773.98048031', '6201430.6890115634785'], ['1629504000', '0.49103', '0.5731', '0.5779', '0.4726', '14418045.80878299', '7692886.0443430403937'], ['1629417600', '0.50778', '0.49161', '0.54', '0.48226', '11589471.10590173', '5961198.1801748643948'], ['1629331200', '0.4148', '0.50903', '0.50903', '0.41389', '18690238.00549201', '8651048.1893319520228'], ['1629244800', '0.39095', '0.4142', '0.45199', '0.36523', '20349441.71135555', '8386077.7802456560783'], ['1629158400', '0.39502', '0.39249', '0.46576', '0.37528', '15631860.97430433', '6575366.121932960466'], ['1629072000', '0.348', '0.39607', '0.42768', '0.348', '14114364.47632367', '5534989.8741081280179'], ['1628985600', '0.33856', '0.34656', '0.34993', '0.32064', '3261485.59877889', '1089817.5403804892864'], ['1628899200', '0.34414', '0.33714', '0.35498', '0.32512', '5163150.15433815', '1748884.736670579551'], ['1628812800', '0.30802', '0.34417', '0.35166', '0.30406', '6650244.24580072', '2248206.564281412118'], ['1628726400', '0.32013', '0.30726', '0.33967', '0.29052', '5404471.69974724', '1681539.1355102501859'], ['1628640000', '0.29585', '0.32066', '0.33937', '0.29503', '5789556.11030553', '1841371.1749182399917'], ['1628553600', '0.278', '0.29712', '0.30421', '0.27392', '3473306.0728913', '1008841.4153582783645'], ['1628467200', '0.26797', '0.27881', '0.28985', '0.2572', '4963372.03709721', '1373110.7781946350783'], ['1628380800', '0.28599', '0.26715', '0.29996', '0.26', '6832557.70007196', '1907924.8607860319241'], ['1628294400', '0.28', '0.28599', '0.29629', '0.26797', '6336632.78164197', '1788351.3689931395429'], ['1628208000', '0.26035', '0.27936', '0.28738', '0.25917', '9308476.3888826', '2507369.4024670674767'], ['1628121600', '0.24584', '0.26062', '0.26123', '0.2315', '4589821.86313217', '1134394.0232483259469'], ['1628035200', '0.23818', '0.24534', '0.25133', '0.2302', '3186636.69966288', '772071.9048111925643'], ['1627948800', '0.25151', '0.23718', '0.25767', '0.2337', '3401938.05854985', '826382.2069908779588'], ['1627862400', '0.24538', '0.25145', '0.2547', '0.23763', '7774913.38641447', '1918666.1786117006293'], ['1627776000', '0.25618', '0.24537', '0.26747', '0.242', '11100592.650738', '2865942.1356791387777'], ['1627689600', '0.254', '0.25506', '0.25986', '0.24417', '8806065.20560553', '2225317.50805815222'], ['1627603200', '0.24944', '0.25398', '0.25766', '0.22894', '9325577.41655443', '2249081.6292900194518'], ['1627516800', '0.22762', '0.24936', '0.25546', '0.22299', '8155555.19265481', '1995515.0738239650825'], ['1627430400', '0.22432', '0.22654', '0.22944', '0.21471', '4188082.4791675', '929275.7049499933336'], ['1627344000', '0.20923', '0.22426', '0.23612', '0.2', '9945997.15334421', '2177685.5333871191601'], ['1627257600', '0.198', '0.20937', '0.2416', '0.19597', '11975490.62862609', '2652800.6534994905501'], ['1627171200', '0.194', '0.198', '0.198', '0.18618', '3646257.14898366', '700717.5416869118708'], ['1627084800', '0.19113', '0.19495', '0.20201', '0.18933', '2529121.32005862', '491513.5868672938198'], ['1626998400', '0.18565', '0.19106', '0.19859', '0.17889', '3630579.14616087', '673411.2790037197019'], ['1626912000', '0.17619', '0.18565', '0.18945', '0.17199', '2221431.12950058', '401028.165322295831'], ['1626825600', '0.16027', '0.17732', '0.18466', '0.156', '4981892.95539434', '869721.0413893496657'], ['1626739200', '0.17035', '0.15936', '0.17348', '0.15287', '4270095.33954921', '682327.4529739051523'], ['1626652800', '0.19', '0.17', '0.1912', '0.16818', '4273397.9102158', '753780.2094765902324'], ['1626566400', '0.19592', '0.19017', '0.20275', '0.1875', '1276226.04564458', '246638.2233142746995'], ['1626480000', '0.19367', '0.19604', '0.1979', '0.18819', '1602437.09544664', '308724.4569698098079'], ['1626393600', '0.21164', '0.19378', '0.21579', '0.19261', '3584701.88281745', '717051.0220674458823'], ['1626307200', '0.2193', '0.21162', '0.22349', '0.20268', '1902878.73859728', '401494.5764082129908'], ['1626220800', '0.22276', '0.2193', '0.2244', '0.20606', '4936038.48835716', '1054530.8201003837113'], ['1626134400', '0.22392', '0.22272', '0.23513', '0.21628', '3450397.94290194', '770046.1640308151632'], ['1626048000', '0.23173', '0.22396', '0.23884', '0.21857', '2727859.70696813', '622766.4790181233489'], ['1625961600', '0.2262', '0.23079', '0.23669', '0.22032', '4401491.46131657', '1011650.4463600922882'], ['1625875200', '0.23426', '0.22542', '0.24168', '0.2215', '1876672.7538144', '430837.8919334200258'], ['1625788800', '0.23815', '0.23421', '0.24088', '0.22428', '3101032.6759507', '718894.9613073348278'], ['1625702400', '0.25795', '0.2388', '0.26026', '0.23099', '5551955.89819528', '1347473.8738595349108'], ['1625616000', '0.24955', '0.25845', '0.27766', '0.2455', '7863537.90747058', '2095246.7364686693568'], ['1625529600', '0.22997', '0.24974', '0.25628', '0.22997', '6144771.42233704', '1503286.9319261565086'], ['1625443200', '0.2424', '0.23034', '0.2447', '0.22476', '3248249.37941083', '757631.0288732536932'], ['1625356800', '0.23389', '0.24244', '0.25288', '0.22716', '2262319.90689752', '545141.5472088040225'], ['1625270400', '0.22796', '0.23478', '0.2397', '0.22501', '1921529.87499508', '448886.1131489595891'], ['1625184000', '0.22144', '0.22789', '0.231', '0.21433', '3850636.34508234', '856929.9365088643882'], ['1625097600', '0.24149', '0.22166', '0.2425', '0.21851', '8289092.62722378', '1890367.6171478219448'], ['1625011200', '0.2357', '0.24136', '0.2416', '0.21314', '8914046.78249919', '2007535.8435092760801'], ['1624924800', '0.22584', '0.23563', '0.25014', '0.2247', '5530863.19295537', '1322118.4759668743897'], ['1624838400', '0.21818', '0.22525', '0.23299', '0.21495', '7147192.6725722', '1607247.7668611627665'], ['1624752000', '0.21264', '0.21815', '0.21815', '0.20053', '10878741.13499867', '2262203.5975041425538'], ['1624665600', '0.2054', '0.21257', '0.21687', '0.194', '7601251.34084609', '1585675.8426635606926'], ['1624579200', '0.24238', '0.2056', '0.2478', '0.20427', '7299400.37776386', '1610773.6104656415206'], ['1624492800', '0.24598', '0.24237', '0.25736', '0.23288', '4261005.78520432', '1049143.5338834471912']]}\n",
      "1624492800\n"
     ]
    },
    {
     "name": "stdout",
     "output_type": "stream",
     "text": [
      "{'code': '200000', 'data': [['1624406400', '0.21716', '0.24658', '0.27742', '0.20665', '13083258.77516903', '3162919.1084164742996'], ['1624320000', '0.23518', '0.21628', '0.25422', '0.18647', '28851058.23945422', '6173205.3732572449651'], ['1624233600', '0.30922', '0.23516', '0.31158', '0.2268', '16125210.71486699', '4330615.5417533137007'], ['1624147200', '0.30785', '0.30994', '0.32115', '0.28192', '8851377.50166501', '2667142.6304733385044'], ['1624060800', '0.29552', '0.30829', '0.32864', '0.28226', '6087960.76807938', '1892206.444565825069'], ['1623974400', '0.3212', '0.2944', '0.34695', '0.28507', '12814614.92002883', '4046783.5227822838251'], ['1623888000', '0.28029', '0.32093', '0.32159', '0.2793', '8952131.6052515', '2732495.9869771316426'], ['1623801600', '0.28851', '0.28048', '0.29139', '0.26629', '4856627.026997', '1359860.8083468795008'], ['1623715200', '0.3', '0.28865', '0.31005', '0.28088', '5256422.94779417', '1542864.3689356651688'], ['1623628800', '0.28032', '0.29948', '0.30924', '0.269', '7873053.99282967', '2261265.3221110247474'], ['1623542400', '0.2392', '0.28174', '0.28285', '0.23218', '7483958.89947573', '1962766.9571818802534'], ['1623456000', '0.25242', '0.23857', '0.2528', '0.232', '5170407.81324414', '1244058.9086714972584'], ['1623369600', '0.28046', '0.25306', '0.28417', '0.24845', '3174863.95320835', '842405.2099654809186'], ['1623283200', '0.3072', '0.27961', '0.30866', '0.27055', '5905942.74237084', '1718160.6461645057836'], ['1623196800', '0.29239', '0.305', '0.31458', '0.27264', '11593722.80567057', '3426124.3458387741257'], ['1623110400', '0.29758', '0.29242', '0.321', '0.25873', '13727695.09746418', '3883240.5390452047172'], ['1623024000', '0.34052', '0.29802', '0.35726', '0.29325', '5468715.91406902', '1778847.9727025414234'], ['1622937600', '0.3118', '0.3416', '0.34811', '0.31105', '2732666.89814221', '904629.7602528008466'], ['1622851200', '0.33557', '0.31225', '0.36326', '0.302', '6358219.82052941', '2106052.8402075814491'], ['1622764800', '0.38198', '0.33564', '0.38348', '0.31616', '7388451.32415297', '2499501.9686219317276'], ['1622678400', '0.34934', '0.38163', '0.40253', '0.34284', '7492483.62884472', '2808327.3840680133478'], ['1622592000', '0.3097', '0.34934', '0.36627', '0.297', '6671963.20039833', '2274097.3896885051587'], ['1622505600', '0.3199', '0.30942', '0.32973', '0.3012', '4500573.36271324', '1419901.0751169400108'], ['1622419200', '0.29433', '0.31993', '0.32579', '0.27497', '4206375.64352796', '1268918.7541941283817'], ['1622332800', '0.27527', '0.2952', '0.31257', '0.26235', '6118086.55866203', '1771618.2961236848969'], ['1622246400', '0.3043', '0.27655', '0.31867', '0.26226', '4484084.25266061', '1281155.8069326197204'], ['1622160000', '0.34804', '0.30399', '0.3525', '0.28667', '9676414.8269289', '2999981.4262112841586'], ['1622073600', '0.37837', '0.348', '0.37855', '0.32205', '7087957.28007595', '2469640.4270415363293'], ['1621987200', '0.3303', '0.37837', '0.40486', '0.31501', '12351077.83657366', '4455798.8015794719796'], ['1621900800', '0.34326', '0.33026', '0.36948', '0.287', '13736745.26762282', '4319722.8040863285814'], ['1621814400', '0.25312', '0.3432', '0.35372', '0.2528', '16717462.58031107', '5100157.3462073644822'], ['1621728000', '0.29048', '0.25258', '0.30234', '0.18331', '24853155.8369859', '5874805.1555316414939'], ['1621641600', '0.3523', '0.29048', '0.36568', '0.28961', '13952116.19000761', '4475735.3152098858438'], ['1621555200', '0.45051', '0.3522', '0.48025', '0.30373', '15065520.42407097', '5676818.2723304508294'], ['1621468800', '0.39285', '0.44894', '0.51229', '0.33509', '17634206.80123237', '7635720.8041475612955'], ['1621382400', '0.68405', '0.39281', '0.769', '0.27007', '32673491.60631325', '18118792.5536860958961'], ['1621296000', '0.58183', '0.68449', '0.71394', '0.5727', '9039669.62065016', '5742126.4439164812994'], ['1621209600', '0.63212', '0.57876', '0.63621', '0.54', '7522758.14408141', '4461488.70823577229'], ['1621123200', '0.61504', '0.63138', '0.72733', '0.58723', '8447026.57970424', '5497532.5058813805365'], ['1621036800', '0.6902', '0.61351', '0.73569', '0.60958', '6791857.78943267', '4557085.6925266457121'], ['1620950400', '0.61823', '0.6916', '0.74378', '0.61327', '7970479.60924765', '5420697.9816126798583'], ['1620864000', '0.60197', '0.61941', '0.70656', '0.56789', '9047703.84581178', '5739783.0186098948047'], ['1620777600', '0.78816', '0.60071', '0.78888', '0.571', '12920875.01056475', '9176779.5668503536524'], ['1620691200', '0.77', '0.78726', '0.81093', '0.71013', '7869532.90454066', '6011127.7910432160368'], ['1620604800', '0.91922', '0.77004', '0.95816', '0.666', '11463687.59703601', '9454282.7976489177722'], ['1620518400', '0.81497', '0.91915', '0.9425', '0.71607', '9348772.25066115', '7882273.8512813778818'], ['1620432000', '0.77485', '0.815', '0.9376', '0.77077', '12531797.08699708', '10732664.1066156407958'], ['1620345600', '0.7306', '0.77402', '0.78936', '0.68702', '5720653.23815558', '4222038.0338724180376'], ['1620259200', '0.78189', '0.72941', '0.81', '0.7033', '5854806.85577689', '4482448.2474988354396'], ['1620172800', '0.64918', '0.78193', '0.83806', '0.63714', '11081154.46165719', '8601733.3193967184977'], ['1620086400', '0.70896', '0.64918', '0.76664', '0.63189', '13351008.77354839', '9145331.205529355159'], ['1620000000', '0.75431', '0.71131', '0.78671', '0.70358', '9304489.24481356', '6915141.5909195221224'], ['1619913600', '0.81264', '0.75299', '0.84614', '0.74283', '9514215.99958072', '7639936.4259860969571'], ['1619827200', '0.73962', '0.81262', '0.84', '0.69421', '12796365.83304997', '9868621.2751015445108'], ['1619740800', '0.5799', '0.73983', '0.79387', '0.56078', '16030585.30511495', '11376267.0906395681149'], ['1619654400', '0.59375', '0.57979', '0.72939', '0.5721', '21493823.75897626', '13879971.6769587561097'], ['1619568000', '0.52527', '0.59372', '0.61824', '0.4451', '14904141.92530967', '8135677.5667035442183'], ['1619481600', '0.38563', '0.52399', '0.5335', '0.37865', '8917098.47248556', '4244191.3115546625346'], ['1619395200', '0.30549', '0.38562', '0.4312', '0.29528', '7737095.18960079', '2862094.9309535855664'], ['1619308800', '0.2791', '0.30615', '0.34769', '0.27617', '3962136.43353832', '1165984.639608150007'], ['1619222400', '0.3141', '0.2791', '0.32043', '0.27658', '2426063.67052659', '725645.3695940119488'], ['1619136000', '0.32782', '0.31651', '0.33854', '0.24369', '6863386.64721696', '1993387.3535470560356'], ['1619049600', '0.3675', '0.32785', '0.3893', '0.30312', '3619931.56493323', '1289273.830825943824'], ['1618963200', '0.4', '0.3675', '0.40777', '0.36717', '2374368.38323429', '920220.8605584046353'], ['1618876800', '0.39967', '0.40124', '0.4175', '0.35645', '4599422.43015141', '1785362.0004115025351'], ['1618790400', '0.42361', '0.39893', '0.43393', '0.355', '7185168.34743916', '2887367.6173951300118'], ['1618704000', '0.4958', '0.42346', '0.50423', '0.31073', '9031172.06725444', '3722939.104543078976'], ['1618617600', '0.45522', '0.49305', '0.57806', '0.44002', '12582411.69917005', '6510232.7342288604605'], ['1618531200', '0.44691', '0.45747', '0.458', '0.40662', '4860610.66634046', '2075516.1691173696614'], ['1618444800', '0.41621', '0.44455', '0.45922', '0.41082', '5413476.01555571', '2353579.1077436718697'], ['1618358400', '0.41961', '0.41838', '0.441', '0.38782', '5068019.20644258', '2091374.8837524011541'], ['1618272000', '0.42767', '0.41761', '0.4443', '0.41138', '2943740.25403537', '1256937.8313606144825'], ['1618185600', '0.45761', '0.4276', '0.4675', '0.42327', '2705777.26555341', '1187280.625781398332'], ['1618099200', '0.44095', '0.45658', '0.46628', '0.4269', '2127992.0279021', '939296.6421515035072'], ['1618012800', '0.45131', '0.44095', '0.47562', '0.42036', '3070626.53712078', '1382774.6358997959113'], ['1617926400', '0.43687', '0.45029', '0.47457', '0.42752', '3126789.56052758', '1409752.3160952183212'], ['1617840000', '0.4154', '0.43687', '0.4556', '0.41052', '3457733.46763351', '1514579.1870608588732'], ['1617753600', '0.46', '0.41326', '0.48458', '0.39638', '5473398.96697057', '2370230.7604729974836'], ['1617667200', '0.48119', '0.46', '0.5548', '0.445', '9037190.08742729', '4449101.6242849831762'], ['1617580800', '0.40731', '0.4826', '0.48615', '0.395', '7706511.53288534', '3394164.8786977293608'], ['1617494400', '0.38614', '0.40759', '0.4255', '0.379', '2693822.66586785', '1087925.5001927384591'], ['1617408000', '0.42732', '0.38834', '0.44762', '0.38596', '3177618.28022218', '1326712.0259963345021'], ['1617321600', '0.44274', '0.42769', '0.46891', '0.42', '2525463.37731413', '1110715.5459082795933'], ['1617235200', '0.42319', '0.44475', '0.45798', '0.40428', '3610524.43163327', '1556221.857885674572'], ['1617148800', '0.43225', '0.42315', '0.44853', '0.37706', '4490975.61688174', '1900577.3854461006269'], ['1617062400', '0.43397', '0.43212', '0.48375', '0.4201', '4960315.76218421', '2230944.4267641946175'], ['1616976000', '0.39419', '0.43226', '0.44413', '0.38295', '3923852.48231359', '1636710.7264429422498'], ['1616889600', '0.36', '0.3942', '0.419', '0.35415', '3903738.27123996', '1517484.1035681440962'], ['1616803200', '0.367', '0.3593', '0.37383', '0.33985', '1454275.93790753', '521230.6350413554781'], ['1616716800', '0.3232', '0.36598', '0.37746', '0.32262', '2530439.75960374', '896340.5643021353306'], ['1616630400', '0.33564', '0.32347', '0.35292', '0.31151', '2129483.63659521', '701276.3136544990962'], ['1616544000', '0.37882', '0.336', '0.41089', '0.28021', '4290346.54640621', '1566446.6077285251924'], ['1616457600', '0.395', '0.37924', '0.41399', '0.36352', '2859982.98103381', '1125242.8734363739921'], ['1616371200', '0.42723', '0.395', '0.45453', '0.25', '3470973.4980652', '1450455.8976568682721'], ['1616284800', '0.4268', '0.42691', '0.44287', '0.39428', '2345066.66389263', '981439.2486558343654'], ['1616198400', '0.41302', '0.427', '0.51908', '0.41102', '4395990.62927851', '2002416.9982068769277'], ['1616112000', '0.3984', '0.41446', '0.43953', '0.38487', '1500439.74902407', '631973.5169590921931'], ['1616025600', '0.427', '0.39876', '0.445', '0.385', '1467351.64269267', '602878.3132186133028'], ['1615939200', '0.266', '0.42699', '0.49405', '0.266', '2283464.44028781', '952652.4836836536709']]}\n",
      "1615939200\n"
     ]
    },
    {
     "name": "stdout",
     "output_type": "stream",
     "text": [
      "{'code': '200000', 'data': []}\n",
      "{'code': '200000', 'data': []}\n",
      "{'code': '200000', 'data': []}\n",
      "{'code': '200000', 'data': []}\n",
      "{'code': '200000', 'data': []}\n",
      "{'code': '200000', 'data': []}\n",
      "{'code': '200000', 'data': []}\n",
      "{'code': '200000', 'data': []}\n",
      "{'code': '200000', 'data': []}\n",
      "{'code': '200000', 'data': []}\n",
      "{'code': '200000', 'data': []}\n",
      "{'code': '200000', 'data': []}\n",
      "{'code': '200000', 'data': []}\n",
      "{'code': '200000', 'data': []}\n",
      "{'code': '200000', 'data': []}\n",
      "{'code': '200000', 'data': []}\n",
      "{'code': '200000', 'data': []}\n",
      "{'code': '200000', 'data': []}\n",
      "{'code': '200000', 'data': []}\n",
      "{'code': '200000', 'data': []}\n",
      "{'code': '200000', 'data': []}\n",
      "{'code': '200000', 'data': []}\n",
      "{'code': '200000', 'data': []}\n",
      "{'code': '200000', 'data': []}\n",
      "{'code': '200000', 'data': []}\n",
      "{'code': '200000', 'data': []}\n",
      "{'code': '200000', 'data': []}\n",
      "{'code': '200000', 'data': []}\n",
      "{'code': '200000', 'data': []}\n",
      "{'code': '200000', 'data': []}\n",
      "{'code': '200000', 'data': []}\n",
      "{'code': '200000', 'data': []}\n"
     ]
    },
    {
     "ename": "KeyboardInterrupt",
     "evalue": "",
     "output_type": "error",
     "traceback": [
      "\u001b[1;31m---------------------------------------------------------------------------\u001b[0m",
      "\u001b[1;31mKeyboardInterrupt\u001b[0m                         Traceback (most recent call last)",
      "\u001b[1;32m<ipython-input-95-40f5ab592791>\u001b[0m in \u001b[0;36m<module>\u001b[1;34m\u001b[0m\n\u001b[1;32m----> 1\u001b[1;33m \u001b[0mGetHistoKucoin\u001b[0m\u001b[1;33m(\u001b[0m\u001b[1;33m[\u001b[0m\u001b[1;34m'FTM-USDT'\u001b[0m\u001b[1;33m]\u001b[0m\u001b[1;33m,\u001b[0m\u001b[1;34m'2020-01-01'\u001b[0m\u001b[1;33m,\u001b[0m\u001b[1;34m'2022-01-10'\u001b[0m\u001b[1;33m,\u001b[0m\u001b[1;34m'1day'\u001b[0m\u001b[1;33m)\u001b[0m\u001b[1;33m\u001b[0m\u001b[1;33m\u001b[0m\u001b[0m\n\u001b[0m",
      "\u001b[1;32m<ipython-input-94-38bd5b4a0202>\u001b[0m in \u001b[0;36mGetHistoKucoin\u001b[1;34m(tickers, startdate, enddate, candletype)\u001b[0m\n\u001b[0;32m     33\u001b[0m                         \u001b[1;34m'startAt'\u001b[0m \u001b[1;33m:\u001b[0m \u001b[0mdate_limit\u001b[0m\u001b[1;33m,\u001b[0m\u001b[1;33m\u001b[0m\u001b[1;33m\u001b[0m\u001b[0m\n\u001b[0;32m     34\u001b[0m                         'endAt' : end_}\n\u001b[1;32m---> 35\u001b[1;33m             \u001b[0mtime\u001b[0m\u001b[1;33m.\u001b[0m\u001b[0msleep\u001b[0m\u001b[1;33m(\u001b[0m\u001b[1;36m1\u001b[0m\u001b[1;33m)\u001b[0m\u001b[1;33m\u001b[0m\u001b[1;33m\u001b[0m\u001b[0m\n\u001b[0m\u001b[0;32m     36\u001b[0m             \u001b[0mr\u001b[0m \u001b[1;33m=\u001b[0m \u001b[0mrequests\u001b[0m\u001b[1;33m.\u001b[0m\u001b[0mget\u001b[0m\u001b[1;33m(\u001b[0m\u001b[0murl\u001b[0m\u001b[1;33m=\u001b[0m\u001b[0murl\u001b[0m\u001b[1;33m,\u001b[0m\u001b[0mparams\u001b[0m\u001b[1;33m=\u001b[0m\u001b[0mparams_histo\u001b[0m\u001b[1;33m)\u001b[0m\u001b[1;33m\u001b[0m\u001b[1;33m\u001b[0m\u001b[0m\n\u001b[0;32m     37\u001b[0m             \u001b[0mdata\u001b[0m \u001b[1;33m=\u001b[0m \u001b[0mr\u001b[0m\u001b[1;33m.\u001b[0m\u001b[0mjson\u001b[0m\u001b[1;33m(\u001b[0m\u001b[1;33m)\u001b[0m\u001b[1;33m\u001b[0m\u001b[1;33m\u001b[0m\u001b[0m\n",
      "\u001b[1;31mKeyboardInterrupt\u001b[0m: "
     ]
    }
   ],
   "source": [
    "GetHistoKucoin(['FTM-USDT'],'2020-01-01','2022-01-10','1day')"
   ]
  },
  {
   "cell_type": "code",
   "execution_count": 70,
   "id": "immediate-removal",
   "metadata": {
    "ExecuteTime": {
     "end_time": "2022-01-27T14:20:29.919197Z",
     "start_time": "2022-01-27T14:20:29.563310Z"
    }
   },
   "outputs": [],
   "source": [
    "url = f'https://api.kucoin.com/api/v1/market/candles'.format()\n",
    "\n",
    "params_histo = {'symbol' : ['FTM-USDT'],\n",
    "                        'type' : '1day',\n",
    "                        'startAt' :  arrow.get('2020-01-01').timestamp,\n",
    "                        'endAt' : arrow.get('2022-01-10').timestamp}\n",
    "\n",
    "r = requests.get(url=url,params=params_histo)\n",
    "data = r.json()"
   ]
  },
  {
   "cell_type": "code",
   "execution_count": 83,
   "id": "interpreted-syntax",
   "metadata": {
    "ExecuteTime": {
     "end_time": "2022-01-27T14:23:39.506670Z",
     "start_time": "2022-01-27T14:23:39.488126Z"
    }
   },
   "outputs": [
    {
     "data": {
      "text/plain": [
       "str"
      ]
     },
     "execution_count": 83,
     "metadata": {},
     "output_type": "execute_result"
    }
   ],
   "source": [
    "type(data['data'][0][0])"
   ]
  },
  {
   "cell_type": "code",
   "execution_count": 80,
   "id": "personalized-thread",
   "metadata": {
    "ExecuteTime": {
     "end_time": "2022-01-27T14:22:51.615821Z",
     "start_time": "2022-01-27T14:22:51.598170Z"
    }
   },
   "outputs": [
    {
     "data": {
      "text/plain": [
       "int"
      ]
     },
     "execution_count": 80,
     "metadata": {},
     "output_type": "execute_result"
    }
   ],
   "source": [
    "type(arrow.get('2022-01-10').timestamp)"
   ]
  },
  {
   "cell_type": "code",
   "execution_count": 33,
   "id": "backed-reverse",
   "metadata": {
    "ExecuteTime": {
     "end_time": "2022-01-27T13:59:51.509150Z",
     "start_time": "2022-01-27T13:59:51.496163Z"
    }
   },
   "outputs": [],
   "source": [
    "granularity = {'1min':int(86400/1440),\n",
    "                    '3min':86400/480,\n",
    "                   '5min':86400/288,\n",
    "                  '15min':86400/96,\n",
    "                    '30min':86400/48,\n",
    "                    '1hour':86400/24,\n",
    "                    '2hour':86400/12,\n",
    "                    '4hour':86400/6,\n",
    "                     '6hour':86400/4,\n",
    "                       '8hour':86400/3,\n",
    "                       '12hour':86400/2,\n",
    "                      '1day':86400,\n",
    "                         '1week':86400*7} "
   ]
  },
  {
   "cell_type": "code",
   "execution_count": 34,
   "id": "ethical-andrews",
   "metadata": {
    "ExecuteTime": {
     "end_time": "2022-01-27T13:59:52.421796Z",
     "start_time": "2022-01-27T13:59:52.404841Z"
    }
   },
   "outputs": [
    {
     "data": {
      "text/plain": [
       "60"
      ]
     },
     "execution_count": 34,
     "metadata": {},
     "output_type": "execute_result"
    }
   ],
   "source": [
    "granularity['1min']"
   ]
  },
  {
   "cell_type": "code",
   "execution_count": null,
   "id": "bottom-underwear",
   "metadata": {},
   "outputs": [],
   "source": []
  }
 ],
 "metadata": {
  "kernelspec": {
   "display_name": "Python 3",
   "language": "python",
   "name": "python3"
  },
  "language_info": {
   "codemirror_mode": {
    "name": "ipython",
    "version": 3
   },
   "file_extension": ".py",
   "mimetype": "text/x-python",
   "name": "python",
   "nbconvert_exporter": "python",
   "pygments_lexer": "ipython3",
   "version": "3.7.9"
  }
 },
 "nbformat": 4,
 "nbformat_minor": 5
}
