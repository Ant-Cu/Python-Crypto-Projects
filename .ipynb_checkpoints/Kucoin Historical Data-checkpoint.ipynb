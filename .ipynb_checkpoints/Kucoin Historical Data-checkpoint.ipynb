{
 "cells": [
  {
   "cell_type": "code",
   "execution_count": 1,
   "id": "spectacular-ghana",
   "metadata": {
    "ExecuteTime": {
     "end_time": "2022-01-27T14:38:30.532627Z",
     "start_time": "2022-01-27T14:38:28.606290Z"
    }
   },
   "outputs": [],
   "source": [
    "import time\n",
    "import pandas as pd\n",
    "import numpy as np\n",
    "import matplotlib.pyplot as plt\n",
    "import seaborn as sns\n",
    "import requests\n",
    "import arrow\n",
    "from requests.auth import AuthBase\n",
    "import datetime as dt"
   ]
  },
  {
   "cell_type": "code",
   "execution_count": 2,
   "id": "proved-hurricane",
   "metadata": {
    "ExecuteTime": {
     "end_time": "2022-01-27T14:38:42.365349Z",
     "start_time": "2022-01-27T14:38:42.348384Z"
    }
   },
   "outputs": [],
   "source": [
    "def GetHistoKucoin(tickers,startdate,enddate,candletype):\n",
    "    #date format as string arg must be YYYY-MM-DD, and tickers a list of ticker(s)\n",
    "    #Candle Type of candlestick patterns: \n",
    "    #1min, 3min, 5min, 15min, 30min, 1hour, 2hour, 4hour, 6hour, 8hour, 12hour, 1day, 1week\n",
    "    \n",
    "    granularity = {'1min':int(86400/1440),\n",
    "                    '3min':int(86400/480),\n",
    "                   '5min':int(86400/288),\n",
    "                  '15min':int(86400/96),\n",
    "                    '30min':int(86400/48),\n",
    "                    '1hour':int(86400/24),\n",
    "                    '2hour':int(86400/12),\n",
    "                    '4hour':int(86400/6),\n",
    "                     '6hour':int(86400/4),\n",
    "                       '8hour':int(86400/3),\n",
    "                       '12hour':int(86400/2),\n",
    "                      '1day':int(86400),\n",
    "                         '1week':int(86400*7)} \n",
    "    \n",
    "    \n",
    "    for ticker in tickers:\n",
    "        end_ = arrow.get(enddate).timestamp\n",
    "        start_ = arrow.get(startdate).timestamp #creates a loop limit        \n",
    "        date_line_limit = int(200)  #Coinbase limit is 200\n",
    "        date_limit = end_ - (granularity[candletype]*date_line_limit)\n",
    "        ticker_df = []\n",
    "        while date_limit >= start_:\n",
    "\n",
    "            url = f'https://api.kucoin.com/api/v1/market/candles'.format()\n",
    "\n",
    "            params_histo = {'symbol' : ticker,\n",
    "                        'type' : candletype,\n",
    "                        'startAt' : date_limit,\n",
    "                        'endAt' : end_}\n",
    "            time.sleep(1)\n",
    "            r = requests.get(url=url,params=params_histo)\n",
    "            data = r.json()\n",
    "\n",
    "            print(data)\n",
    "            if data['code'] != '200000':\n",
    "                print(data['msg'])\n",
    "                break\n",
    "            elif date_limit == start_:\n",
    "                print('job done')\n",
    "                break\n",
    "            elif len(data['data']) is 0:\n",
    "                print('no data')\n",
    "                break\n",
    "            else:\n",
    "                end_ = int(data['data'][-1][0])\n",
    "                print(end_)\n",
    "\n",
    "            for i in data['data']:\n",
    "                ticker_df.append(i)\n",
    "\n",
    "            date_limit = end_ - (granularity[candletype]*date_line_limit)\n",
    "         \n",
    "        #Tidy the DataFrame\n",
    "        column_names = ['time','Open','Close','High','Low','Volume','Turnover']\n",
    "        ticker_df = pd.DataFrame(ticker_df,columns=column_names)\n",
    "        ticker_df['Date'] = [arrow.Arrow.fromtimestamp(date).format('YYYY-MM-DD HH:mm') for date in ticker_df['time']]\n",
    "        ticker_df.drop_duplicates(subset='time',inplace=True)\n",
    "        #ticker_df.drop('time',axis=1,inplace=True)\n",
    "        ticker_df.sort_values(by='Date',inplace=True,ascending=True)\n",
    "        \n",
    "        \n",
    "        filename = [ticker.replace('/','-') if '/' in ticker else ticker][0]\n",
    "\n",
    "        path=r'C:\\Users\\Anthony\\Documents\\Python Projects\\Python-Crypto-Projects' #change to your path\n",
    "        ticker_df.to_csv(f'{path}\\{filename}.csv'.format(),index=False)"
   ]
  },
  {
   "cell_type": "code",
   "execution_count": null,
   "id": "rocky-father",
   "metadata": {},
   "outputs": [],
   "source": []
  }
 ],
 "metadata": {
  "kernelspec": {
   "display_name": "Python 3",
   "language": "python",
   "name": "python3"
  },
  "language_info": {
   "codemirror_mode": {
    "name": "ipython",
    "version": 3
   },
   "file_extension": ".py",
   "mimetype": "text/x-python",
   "name": "python",
   "nbconvert_exporter": "python",
   "pygments_lexer": "ipython3",
   "version": "3.7.9"
  }
 },
 "nbformat": 4,
 "nbformat_minor": 5
}
