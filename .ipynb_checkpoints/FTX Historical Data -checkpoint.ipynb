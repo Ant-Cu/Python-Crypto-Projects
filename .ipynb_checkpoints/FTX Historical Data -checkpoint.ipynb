{
 "cells": [
  {
   "cell_type": "code",
   "execution_count": 1,
   "id": "wicked-portsmouth",
   "metadata": {
    "ExecuteTime": {
     "end_time": "2022-01-12T11:22:23.557689Z",
     "start_time": "2022-01-12T11:22:21.801986Z"
    },
    "scrolled": true
   },
   "outputs": [],
   "source": [
    "import time\n",
    "import hmac\n",
    "import requests\n",
    "import arrow\n",
    "import pandas as pd\n",
    "import asyncio\n",
    "from datetime import datetime as dt\n",
    "from pprint import pprint\n",
    "from tqdm import tqdm"
   ]
  },
  {
   "cell_type": "code",
   "execution_count": 2,
   "id": "hearing-scale",
   "metadata": {
    "ExecuteTime": {
     "end_time": "2022-01-12T11:22:24.237152Z",
     "start_time": "2022-01-12T11:22:24.220196Z"
    }
   },
   "outputs": [],
   "source": [
    "#Tidying the DataFrame\n",
    "def DForginaser(dfname,newname):\n",
    "    newname = dfname.drop('startTime',axis=1)\n",
    "    newname['Date'] = [arrow.Arrow.fromtimestamp(date).format('YYYY-MM-DD HH:mm') for date in newname['time']]\n",
    "    newname.drop('time',axis=1,inplace=True)\n",
    "    colname = {\n",
    "                'Date':'Date',\n",
    "                'open':'Open',\n",
    "                'high':'High',\n",
    "                'low':'Low',\n",
    "                'close':'Close',\n",
    "                'volume':'Volume'\n",
    "                }\n",
    "    newname.rename(columns=colname, inplace=True)\n",
    "    col_order = ['Date','Open','High','Low','Close','Volume']\n",
    "    newname = newname[col_order]\n",
    "    newname.sort_values(by='Date',inplace=True,ascending=True)\n",
    "    return newname"
   ]
  },
  {
   "cell_type": "code",
   "execution_count": 5,
   "id": "blond-corpus",
   "metadata": {
    "ExecuteTime": {
     "end_time": "2022-01-12T11:23:15.132157Z",
     "start_time": "2022-01-12T11:23:15.119574Z"
    },
    "scrolled": true
   },
   "outputs": [],
   "source": [
    "#window length in seconds. options: 15, 60, 300, 900, 3600, 14400, 86400, or any multiple of 86400 up to 30*86400\n",
    "#This function will create a csv file with containing the historical prices of the specified tickers \n",
    "def GetHistoFTX(tickers,startdate,enddate,timeframe):\n",
    "    #date format as arg must be YYYY-MM-DD\n",
    "    resolution = timeframe \n",
    "    for ticker in tickers:\n",
    "        end_ = arrow.get(enddate).timestamp\n",
    "        datelimit = arrow.get(startdate).timestamp - resolution #creates a loop limit\n",
    "        nbline = 1000\n",
    "        start_ = end_ - (resolution*nbline)\n",
    "        ticker_df = []\n",
    "        while start_ > datelimit:\n",
    "            #print(dt.fromtimestamp(end_),dt.fromtimestamp(start_))\n",
    "            url = f'https://ftx.com/api/markets/{ticker}/candles'.format()\n",
    "            params_histo = dict(resolution = resolution,\n",
    "                    limit =1500,\n",
    "                    start_time=int(start_),\n",
    "                    end_time=int(end_))\n",
    "            r = requests.get(url=url,params=params_histo)\n",
    "            data = r.json()\n",
    "            time.sleep(0.1)\n",
    "\n",
    "            if end_ == data['result'][0]['time']/1000:\n",
    "                break\n",
    "            elif data['success'] is 'False':        \n",
    "                break\n",
    "            else:\n",
    "                end_ = round(data['result'][0]['time']/1000,0)\n",
    "\n",
    "            for i in data['result']:\n",
    "                ticker_df.append(i)\n",
    "            \n",
    "            start_ = end_ - (resolution*nbline)\n",
    "\n",
    "        ticker_df = pd.DataFrame(ticker_df)\n",
    "        filename = [ticker.replace('/','-') if '/' in ticker else ticker][0]\n",
    "        ticker_df = DForginaser(ticker_df,filename)\n",
    "        path=r'your path'\n",
    "        ticker_df.to_csv(f'{path}\\{filename}.csv'.format(),index=False)"
   ]
  },
  {
   "cell_type": "code",
   "execution_count": 6,
   "id": "empirical-marker",
   "metadata": {
    "ExecuteTime": {
     "end_time": "2022-01-12T11:23:46.206983Z",
     "start_time": "2022-01-12T11:23:15.861953Z"
    },
    "scrolled": true
   },
   "outputs": [],
   "source": [
    "#below example will create 4 csv files as per the 4 tickers specified in the list tickers\n",
    "#Within a year period from 20 Dec 2020 to 20 Dec 2021 on a hourly timeframe (3600 resolution)\n",
    "tickers = ['ETH/USD','BTC/USD','ETH-PERP','FTM-PERP']\n",
    "GetHistoFTX(tickers,'2020-12-20','2021-12-20',3600)"
   ]
  },
  {
   "cell_type": "code",
   "execution_count": null,
   "id": "organizational-punch",
   "metadata": {},
   "outputs": [],
   "source": []
  }
 ],
 "metadata": {
  "kernelspec": {
   "display_name": "Python 3",
   "language": "python",
   "name": "python3"
  },
  "language_info": {
   "codemirror_mode": {
    "name": "ipython",
    "version": 3
   },
   "file_extension": ".py",
   "mimetype": "text/x-python",
   "name": "python",
   "nbconvert_exporter": "python",
   "pygments_lexer": "ipython3",
   "version": "3.7.9"
  }
 },
 "nbformat": 4,
 "nbformat_minor": 5
}
