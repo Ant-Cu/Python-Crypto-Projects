{
 "cells": [
  {
   "cell_type": "code",
   "execution_count": 1,
   "id": "equivalent-express",
   "metadata": {
    "ExecuteTime": {
     "end_time": "2022-02-03T10:30:35.472957Z",
     "start_time": "2022-02-03T10:30:31.676344Z"
    }
   },
   "outputs": [],
   "source": [
    "import time\n",
    "import pandas as pd\n",
    "import numpy as np\n",
    "import matplotlib.pyplot as plt\n",
    "import seaborn as sns\n",
    "import requests\n",
    "import arrow\n",
    "from requests.auth import AuthBase\n",
    "import datetime as dt"
   ]
  },
  {
   "cell_type": "code",
   "execution_count": 8,
   "id": "banned-electric",
   "metadata": {
    "ExecuteTime": {
     "end_time": "2022-02-03T10:34:36.904970Z",
     "start_time": "2022-02-03T10:34:36.879016Z"
    }
   },
   "outputs": [],
   "source": [
    "def GetHistoBinance(tickers,startdate,enddate,candletype):\n",
    "    #date format as string arg must be YYYY-MM-DD, and tickers a list of ticker(s)\n",
    "    #Candle Type of candlestick patterns: \n",
    "    #1m, 3m, 5m, 15m, 30m, 1ho, 2ho, 4h, 6h, 8h, 12h, 1d, 1w\n",
    "    \n",
    "    granularity = {'1m':int(86400/1440),\n",
    "                    '3m':int(86400/480),\n",
    "                   '5m':int(86400/288),\n",
    "                  '15m':int(86400/96),\n",
    "                    '30m':int(86400/48),\n",
    "                    '1h':int(86400/24),\n",
    "                    '2h':int(86400/12),\n",
    "                    '4h':int(86400/6),\n",
    "                     '6h':int(86400/4),\n",
    "                       '8h':int(86400/3),\n",
    "                       '12h':int(86400/2),\n",
    "                      '1d':int(86400),\n",
    "                         '1w':int(86400*7)} \n",
    "    \n",
    "    for ticker in tickers:\n",
    "        end_ = arrow.get(enddate).timestamp*1000\n",
    "        start_ = arrow.get(startdate).timestamp*1000 #creates a loop limit        \n",
    "        date_line_limit = 500  #Binance limit is 500\n",
    "        date_limit = end_ - (granularity[candletype]*date_line_limit*1000)\n",
    "        ticker_df = []\n",
    "        nblines = int(((end_ - start_)/granularity[candletype])/1000)\n",
    "\n",
    "        if nblines < date_line_limit:\n",
    "            url = f'https://api.binance.com/api/v3/klines'.format()\n",
    "\n",
    "            params_histo = {'symbol' : ticker,\n",
    "                        'interval' : candletype,\n",
    "                        'startTime' : start_,\n",
    "                        'endTime' : end_}\n",
    "            time.sleep(1)\n",
    "            r = requests.get(url=url,params=params_histo)\n",
    "            data = r.json()\n",
    "\n",
    "            for i in data:\n",
    "                ticker_df.append(i)\n",
    "        else:\n",
    "\n",
    "            while date_limit >= start_:\n",
    "\n",
    "                url = f'https://api.binance.com/api/v3/klines'.format()\n",
    "                params_histo = {'symbol' : ticker,\n",
    "                            'interval' : candletype,\n",
    "                            'startTime' : date_limit,\n",
    "                            'endTime' : end_}\n",
    "                time.sleep(1)\n",
    "                r = requests.get(url=url,params=params_histo)\n",
    "                data = r.json()\n",
    "\n",
    "                if len(data) <5:\n",
    "                    break\n",
    "                elif end_ == start_:\n",
    "                    break\n",
    "                else:\n",
    "                    end_ = data[0][0]\n",
    "                    nblines_check = int(((end_ - start_)/granularity[candletype])/1000)\n",
    "                    \n",
    "                    if nblines_check <= 500:\n",
    "                        date_limit = start_\n",
    "                    else:\n",
    "                        date_limit = end_ - (granularity[candletype]*date_line_limit*1000)\n",
    "\n",
    "                for i in data:\n",
    "                    ticker_df.append(i)\n",
    "\n",
    "                \n",
    "         \n",
    "        #Tidy the DataFrame\n",
    "        column_names = ['time','Open','High','Low','Close','Volume','Close time','Quote asset volume',\n",
    "                        'Number of trades','Taker buy base asset volume','Taker buy quote asset volume',\n",
    "                         'Ignore']\n",
    "        ticker_df = pd.DataFrame(ticker_df,columns=column_names)\n",
    "        ticker_df['Date'] = [arrow.Arrow.fromtimestamp(date).format('YYYY-MM-DD HH:mm') for date in ticker_df['time']]\n",
    "        ticker_df.drop_duplicates(subset='time',inplace=True)\n",
    "        #ticker_df.drop('time',axis=1,inplace=True)\n",
    "        ticker_df.sort_values(by='Date',inplace=True,ascending=True)\n",
    "        \n",
    "        \n",
    "        filename = [ticker.replace('/','-') if '/' in ticker else ticker][0]\n",
    "\n",
    "        path=r'C:\\Users\\Anthony\\Documents\\Python Projects\\Python-Crypto-Projects' #change to your path\n",
    "        ticker_df.to_csv(f'{path}\\{filename}.csv'.format(),index=False)"
   ]
  },
  {
   "cell_type": "code",
   "execution_count": 9,
   "id": "informal-glasgow",
   "metadata": {
    "ExecuteTime": {
     "end_time": "2022-02-03T10:34:49.379846Z",
     "start_time": "2022-02-03T10:34:37.704273Z"
    },
    "scrolled": false
   },
   "outputs": [],
   "source": [
    "GetHistoBinance(['FTMUSDT','ETHUSDT'],'2016-01-10','2022-01-10','1d')"
   ]
  },
  {
   "cell_type": "code",
   "execution_count": null,
   "id": "featured-karen",
   "metadata": {},
   "outputs": [],
   "source": []
  }
 ],
 "metadata": {
  "kernelspec": {
   "display_name": "Python 3",
   "language": "python",
   "name": "python3"
  },
  "language_info": {
   "codemirror_mode": {
    "name": "ipython",
    "version": 3
   },
   "file_extension": ".py",
   "mimetype": "text/x-python",
   "name": "python",
   "nbconvert_exporter": "python",
   "pygments_lexer": "ipython3",
   "version": "3.7.9"
  }
 },
 "nbformat": 4,
 "nbformat_minor": 5
}
