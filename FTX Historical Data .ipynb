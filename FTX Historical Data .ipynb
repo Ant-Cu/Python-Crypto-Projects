{
 "cells": [
  {
   "cell_type": "code",
   "execution_count": 29,
   "id": "wicked-portsmouth",
   "metadata": {
    "ExecuteTime": {
     "end_time": "2021-12-22T12:45:24.907446Z",
     "start_time": "2021-12-22T12:45:24.900464Z"
    },
    "scrolled": true
   },
   "outputs": [],
   "source": [
    "import time\n",
    "import hmac\n",
    "import requests\n",
    "import arrow\n",
    "import pandas as pd\n",
    "import asyncio\n",
    "from datetime import datetime as dt\n",
    "from pprint import pprint\n",
    "from tqdm import tqdm"
   ]
  },
  {
   "cell_type": "code",
   "execution_count": 31,
   "id": "representative-washington",
   "metadata": {
    "ExecuteTime": {
     "end_time": "2021-12-22T12:45:25.432318Z",
     "start_time": "2021-12-22T12:45:25.422346Z"
    },
    "scrolled": true
   },
   "outputs": [
    {
     "name": "stdout",
     "output_type": "stream",
     "text": [
      "2020-12-18 00:00:00\n",
      "2021-12-21 12:45:25.424341\n"
     ]
    }
   ],
   "source": [
    "print(dt.fromtimestamp(1608249600))\n",
    "print(dt.fromtimestamp(time.time()-(86400)))"
   ]
  },
  {
   "cell_type": "code",
   "execution_count": 131,
   "id": "hearing-scale",
   "metadata": {
    "ExecuteTime": {
     "end_time": "2021-12-22T15:51:37.964939Z",
     "start_time": "2021-12-22T15:51:37.945993Z"
    }
   },
   "outputs": [],
   "source": [
    "def DForginaser(dfname,newname):\n",
    "    newname = dfname.drop('startTime',axis=1)\n",
    "    newname['Date'] = [arrow.Arrow.fromtimestamp(date).format('YYYY-MM-DD HH:mm') for date in newname['time']]\n",
    "    newname.drop('time',axis=1,inplace=True)\n",
    "    colname = {\n",
    "                'Date':'Date',\n",
    "                'open':'Open',\n",
    "                'high':'High',\n",
    "                'low':'Low',\n",
    "                'close':'Close',\n",
    "                'volume':'Volume'\n",
    "                }\n",
    "    newname.rename(columns=colname, inplace=True)\n",
    "    col_order = ['Date','Open','High','Low','Close','Volume']\n",
    "    newname = newname[col_order]\n",
    "    newname.sort_values(by='Date',inplace=True,ascending=True)\n",
    "    return newname"
   ]
  },
  {
   "cell_type": "code",
   "execution_count": 132,
   "id": "blond-corpus",
   "metadata": {
    "ExecuteTime": {
     "end_time": "2021-12-22T15:51:38.708526Z",
     "start_time": "2021-12-22T15:51:38.688888Z"
    },
    "scrolled": true
   },
   "outputs": [],
   "source": [
    "# window length in seconds. options: 15, 60, 300, 900, 3600, 14400, 86400, or any multiple of 86400 up to 30*86400\n",
    "def GetHistoFTX(tickers,startdate,enddate,timeframe):\n",
    "    #date format as arg must be YYYY-MM-DD\n",
    "    resolution = timeframe \n",
    "    for ticker in tickers:\n",
    "        end_ = arrow.get(enddate).timestamp\n",
    "        datelimit = arrow.get(startdate).timestamp - resolution #creates a loop limit\n",
    "        nbline = 1000\n",
    "        start_ = end_ - (resolution*nbline)\n",
    "        ticker_df = []\n",
    "        while start_ > datelimit:\n",
    "            #print(dt.fromtimestamp(end_),dt.fromtimestamp(start_))\n",
    "            url = f'https://ftx.com/api/markets/{ticker}/candles'.format()\n",
    "            params_histo = dict(resolution = resolution,\n",
    "                    limit =1500,\n",
    "                    start_time=int(start_),\n",
    "                    end_time=int(end_))\n",
    "            r = requests.get(url=url,params=params_histo)\n",
    "            data = r.json()\n",
    "            time.sleep(0.1)\n",
    "\n",
    "            if end_ == data['result'][0]['time']/1000:\n",
    "                break\n",
    "            elif data['success'] is 'False':        \n",
    "                break\n",
    "            else:\n",
    "                end_ = round(data['result'][0]['time']/1000,0)\n",
    "\n",
    "            for i in data['result']:\n",
    "                ticker_df.append(i)\n",
    "            \n",
    "            start_ = end_ - (resolution*nbline)\n",
    "\n",
    "        ticker_df = pd.DataFrame(ticker_df)\n",
    "        #clean = pd.concat([ticker_df,pd.DataFrame(clean)])\n",
    "        filename = [ticker.replace('/','-') if '/' in ticker else ticker][0]\n",
    "        ticker_df = DForginaser(ticker_df,filename)\n",
    "        path=r'C:\\Users\\Anthony\\Documents\\FTX'\n",
    "        ticker_df.to_csv(f'{path}\\{filename}.csv'.format(),index=False)"
   ]
  },
  {
   "cell_type": "code",
   "execution_count": 133,
   "id": "empirical-marker",
   "metadata": {
    "ExecuteTime": {
     "end_time": "2021-12-22T15:52:02.882122Z",
     "start_time": "2021-12-22T15:51:39.523322Z"
    },
    "scrolled": true
   },
   "outputs": [],
   "source": [
    "tickers = ['ETH/USD','BTC/USD','ETH-PERP','FTM-PERP']\n",
    "GetHistoFTX(tickers,'2020-12-20','2021-12-20',3600)"
   ]
  },
  {
   "cell_type": "code",
   "execution_count": 134,
   "id": "correct-paris",
   "metadata": {
    "ExecuteTime": {
     "end_time": "2021-12-22T15:53:13.305126Z",
     "start_time": "2021-12-22T15:53:13.277668Z"
    }
   },
   "outputs": [],
   "source": [
    "df = pd.read_csv('FTM-PERP.csv')"
   ]
  },
  {
   "cell_type": "code",
   "execution_count": 135,
   "id": "renewable-practitioner",
   "metadata": {
    "ExecuteTime": {
     "end_time": "2021-12-22T15:53:13.904889Z",
     "start_time": "2021-12-22T15:53:13.889946Z"
    }
   },
   "outputs": [
    {
     "data": {
      "text/plain": [
       "(7204, 6)"
      ]
     },
     "execution_count": 135,
     "metadata": {},
     "output_type": "execute_result"
    }
   ],
   "source": [
    "df.shape"
   ]
  },
  {
   "cell_type": "code",
   "execution_count": 136,
   "id": "minor-harvest",
   "metadata": {
    "ExecuteTime": {
     "end_time": "2021-12-22T15:53:14.568580Z",
     "start_time": "2021-12-22T15:53:14.555615Z"
    },
    "scrolled": true
   },
   "outputs": [
    {
     "data": {
      "text/html": [
       "<div>\n",
       "<style scoped>\n",
       "    .dataframe tbody tr th:only-of-type {\n",
       "        vertical-align: middle;\n",
       "    }\n",
       "\n",
       "    .dataframe tbody tr th {\n",
       "        vertical-align: top;\n",
       "    }\n",
       "\n",
       "    .dataframe thead th {\n",
       "        text-align: right;\n",
       "    }\n",
       "</style>\n",
       "<table border=\"1\" class=\"dataframe\">\n",
       "  <thead>\n",
       "    <tr style=\"text-align: right;\">\n",
       "      <th></th>\n",
       "      <th>Date</th>\n",
       "      <th>Open</th>\n",
       "      <th>High</th>\n",
       "      <th>Low</th>\n",
       "      <th>Close</th>\n",
       "      <th>Volume</th>\n",
       "    </tr>\n",
       "  </thead>\n",
       "  <tbody>\n",
       "    <tr>\n",
       "      <th>7199</th>\n",
       "      <td>2021-12-19 20:00</td>\n",
       "      <td>1.42430</td>\n",
       "      <td>1.43660</td>\n",
       "      <td>1.40930</td>\n",
       "      <td>1.43420</td>\n",
       "      <td>9.580447e+05</td>\n",
       "    </tr>\n",
       "    <tr>\n",
       "      <th>7200</th>\n",
       "      <td>2021-12-19 21:00</td>\n",
       "      <td>1.43420</td>\n",
       "      <td>1.43715</td>\n",
       "      <td>1.42280</td>\n",
       "      <td>1.42800</td>\n",
       "      <td>1.002454e+06</td>\n",
       "    </tr>\n",
       "    <tr>\n",
       "      <th>7201</th>\n",
       "      <td>2021-12-19 22:00</td>\n",
       "      <td>1.42800</td>\n",
       "      <td>1.45595</td>\n",
       "      <td>1.42315</td>\n",
       "      <td>1.45435</td>\n",
       "      <td>1.496372e+06</td>\n",
       "    </tr>\n",
       "    <tr>\n",
       "      <th>7202</th>\n",
       "      <td>2021-12-19 23:00</td>\n",
       "      <td>1.45440</td>\n",
       "      <td>1.45985</td>\n",
       "      <td>1.42285</td>\n",
       "      <td>1.42865</td>\n",
       "      <td>1.902585e+06</td>\n",
       "    </tr>\n",
       "    <tr>\n",
       "      <th>7203</th>\n",
       "      <td>2021-12-20 00:00</td>\n",
       "      <td>1.42865</td>\n",
       "      <td>1.43035</td>\n",
       "      <td>1.39270</td>\n",
       "      <td>1.43010</td>\n",
       "      <td>3.639849e+06</td>\n",
       "    </tr>\n",
       "  </tbody>\n",
       "</table>\n",
       "</div>"
      ],
      "text/plain": [
       "                  Date     Open     High      Low    Close        Volume\n",
       "7199  2021-12-19 20:00  1.42430  1.43660  1.40930  1.43420  9.580447e+05\n",
       "7200  2021-12-19 21:00  1.43420  1.43715  1.42280  1.42800  1.002454e+06\n",
       "7201  2021-12-19 22:00  1.42800  1.45595  1.42315  1.45435  1.496372e+06\n",
       "7202  2021-12-19 23:00  1.45440  1.45985  1.42285  1.42865  1.902585e+06\n",
       "7203  2021-12-20 00:00  1.42865  1.43035  1.39270  1.43010  3.639849e+06"
      ]
     },
     "execution_count": 136,
     "metadata": {},
     "output_type": "execute_result"
    }
   ],
   "source": [
    "df.tail()"
   ]
  },
  {
   "cell_type": "code",
   "execution_count": 137,
   "id": "induced-bailey",
   "metadata": {
    "ExecuteTime": {
     "end_time": "2021-12-22T15:53:15.523159Z",
     "start_time": "2021-12-22T15:53:15.501938Z"
    }
   },
   "outputs": [
    {
     "data": {
      "text/html": [
       "<div>\n",
       "<style scoped>\n",
       "    .dataframe tbody tr th:only-of-type {\n",
       "        vertical-align: middle;\n",
       "    }\n",
       "\n",
       "    .dataframe tbody tr th {\n",
       "        vertical-align: top;\n",
       "    }\n",
       "\n",
       "    .dataframe thead th {\n",
       "        text-align: right;\n",
       "    }\n",
       "</style>\n",
       "<table border=\"1\" class=\"dataframe\">\n",
       "  <thead>\n",
       "    <tr style=\"text-align: right;\">\n",
       "      <th></th>\n",
       "      <th>Date</th>\n",
       "      <th>Open</th>\n",
       "      <th>High</th>\n",
       "      <th>Low</th>\n",
       "      <th>Close</th>\n",
       "      <th>Volume</th>\n",
       "    </tr>\n",
       "  </thead>\n",
       "  <tbody>\n",
       "    <tr>\n",
       "      <th>0</th>\n",
       "      <td>2021-02-23 04:00</td>\n",
       "      <td>0.428775</td>\n",
       "      <td>0.43910</td>\n",
       "      <td>0.40130</td>\n",
       "      <td>0.42945</td>\n",
       "      <td>385599.69375</td>\n",
       "    </tr>\n",
       "    <tr>\n",
       "      <th>1</th>\n",
       "      <td>2021-02-23 05:00</td>\n",
       "      <td>0.429450</td>\n",
       "      <td>0.42945</td>\n",
       "      <td>0.37630</td>\n",
       "      <td>0.41025</td>\n",
       "      <td>548475.39205</td>\n",
       "    </tr>\n",
       "    <tr>\n",
       "      <th>2</th>\n",
       "      <td>2021-02-23 06:00</td>\n",
       "      <td>0.410250</td>\n",
       "      <td>0.43485</td>\n",
       "      <td>0.39815</td>\n",
       "      <td>0.40100</td>\n",
       "      <td>189848.88265</td>\n",
       "    </tr>\n",
       "    <tr>\n",
       "      <th>3</th>\n",
       "      <td>2021-02-23 07:00</td>\n",
       "      <td>0.401000</td>\n",
       "      <td>0.42295</td>\n",
       "      <td>0.39500</td>\n",
       "      <td>0.41070</td>\n",
       "      <td>309412.26895</td>\n",
       "    </tr>\n",
       "    <tr>\n",
       "      <th>4</th>\n",
       "      <td>2021-02-23 08:00</td>\n",
       "      <td>0.410700</td>\n",
       "      <td>0.41950</td>\n",
       "      <td>0.33275</td>\n",
       "      <td>0.33410</td>\n",
       "      <td>440349.72150</td>\n",
       "    </tr>\n",
       "  </tbody>\n",
       "</table>\n",
       "</div>"
      ],
      "text/plain": [
       "               Date      Open     High      Low    Close        Volume\n",
       "0  2021-02-23 04:00  0.428775  0.43910  0.40130  0.42945  385599.69375\n",
       "1  2021-02-23 05:00  0.429450  0.42945  0.37630  0.41025  548475.39205\n",
       "2  2021-02-23 06:00  0.410250  0.43485  0.39815  0.40100  189848.88265\n",
       "3  2021-02-23 07:00  0.401000  0.42295  0.39500  0.41070  309412.26895\n",
       "4  2021-02-23 08:00  0.410700  0.41950  0.33275  0.33410  440349.72150"
      ]
     },
     "execution_count": 137,
     "metadata": {},
     "output_type": "execute_result"
    }
   ],
   "source": [
    "df.head()"
   ]
  },
  {
   "cell_type": "code",
   "execution_count": null,
   "id": "scenic-ontario",
   "metadata": {},
   "outputs": [],
   "source": [
    "x = ['Close','Volume','avg']\n",
    "t1 = 24\n",
    "t2 = 72\n",
    "for i in test[x]:\n",
    "\n",
    "    c1 = 'rtn_' + i\n",
    "    c2 = 'abs_rtn_' + i\n",
    "    test[c1] = np.log(test[i]/test[i].shift(1))\n",
    "    test[c2] = abs(np.log(test[i]/test[i].shift(1)))\n",
    "    c3 = i + '_std' + str(t1)\n",
    "    c4 = i + '_std' + str(t2) \n",
    "    test[c3] = test[i].rolling(window=t1).std()\n",
    "    test[c4] = test[i].rolling(window=t2).std()\n",
    "    \n",
    "    c5 = c2 + '_' + str(t1) + 'MA'\n",
    "    c6 = c2 + '_' + str(t2) + 'MA'\n",
    "    test[c5] = test[c2].rolling(window=t1).mean()\n",
    "    test[c6] = test[c2].rolling(window=t2).mean()\n",
    "    c7 = i + '_' + str(t1) + 'EMA'\n",
    "    c8 = i + '_' + str(t2) + 'EMA'\n",
    "    test[c7] = test[i].ewm(span=t1,adjust=True).mean()\n",
    "    test[c8] = test[i].ewm(span=t2,adjust=True).mean()\n",
    "    c9 = i + '_' + str(t1) + 'MA'\n",
    "    c10 = i + '_' + str(t2) + 'MA'\n",
    "    test[c9] = test[i].rolling(window=t1).mean()\n",
    "    test[c10] = test[i].rolling(window=t2).mean()\n",
    "    \n",
    "   \n",
    "    c11 = 'Diff_' + c8 + c7\n",
    "    test[c11] = test[c8] - test[c7]\n",
    "        #Bollinger on Close price\n",
    "    if i == 'Close' or 'avg':\n",
    "        \n",
    "        bol1 = ['BolUp'+c9,'BolDn'+c9]\n",
    "        bol2 = ['BolUp'+c10,'BolDn'+c10]\n",
    "\n",
    "        test[bol1[0]] = test[i].rolling(window=t1).mean() + (test[c2]*2.5) \n",
    "        test[bol1[1]] = test[i].rolling(window=t1).mean() - (test[c2]*2.5)\n",
    "        test[bol2[0]] = test[i].rolling(window=t2).mean() + (test[c3]*2.5)\n",
    "        test[bol2[1]] = test[i].rolling(window=t2).mean() - (test[c3]*2.5) "
   ]
  },
  {
   "cell_type": "code",
   "execution_count": 25,
   "id": "static-council",
   "metadata": {
    "ExecuteTime": {
     "end_time": "2021-12-22T12:44:47.214637Z",
     "start_time": "2021-12-22T12:44:47.199650Z"
    }
   },
   "outputs": [],
   "source": [
    "test = 'ETH-USD'"
   ]
  },
  {
   "cell_type": "code",
   "execution_count": 26,
   "id": "steady-testing",
   "metadata": {
    "ExecuteTime": {
     "end_time": "2021-12-22T12:44:47.665029Z",
     "start_time": "2021-12-22T12:44:47.661068Z"
    }
   },
   "outputs": [],
   "source": [
    "path=r'C:\\Users\\Anthony\\Documents\\FTX'"
   ]
  },
  {
   "cell_type": "code",
   "execution_count": 28,
   "id": "differential-consumer",
   "metadata": {
    "ExecuteTime": {
     "end_time": "2021-12-22T12:44:54.525422Z",
     "start_time": "2021-12-22T12:44:54.508441Z"
    }
   },
   "outputs": [
    {
     "data": {
      "text/plain": [
       "'C:\\\\Users\\\\Anthony\\\\Documents\\\\FTX\\\\ETH-USD.csv'"
      ]
     },
     "execution_count": 28,
     "metadata": {},
     "output_type": "execute_result"
    }
   ],
   "source": [
    "f'{path}\\{test}.csv'.format()"
   ]
  },
  {
   "cell_type": "code",
   "execution_count": null,
   "id": "about-muscle",
   "metadata": {},
   "outputs": [],
   "source": []
  }
 ],
 "metadata": {
  "kernelspec": {
   "display_name": "Python 3",
   "language": "python",
   "name": "python3"
  },
  "language_info": {
   "codemirror_mode": {
    "name": "ipython",
    "version": 3
   },
   "file_extension": ".py",
   "mimetype": "text/x-python",
   "name": "python",
   "nbconvert_exporter": "python",
   "pygments_lexer": "ipython3",
   "version": "3.7.9"
  }
 },
 "nbformat": 4,
 "nbformat_minor": 5
}
